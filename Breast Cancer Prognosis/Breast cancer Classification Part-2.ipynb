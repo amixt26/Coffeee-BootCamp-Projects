{
 "cells": [
  {
   "cell_type": "markdown",
   "id": "e364ce3d",
   "metadata": {},
   "source": [
    "In this notebook we have load our preprocess data which we done in our previous part and now will train the model on different Classification algorithm:\n",
    "\n"
   ]
  },
  {
   "cell_type": "markdown",
   "id": "dcee1daf",
   "metadata": {},
   "source": [
    "# Step 1: Import all the required libraries\n",
    "- Pandas : In computer programming, pandas is a software library written for the Python programming language for data manipulation and analysis and storing in a proper way. In particular, it offers data structures and operations for manipulating numerical tables and time series\n",
    "- Sklearn : Scikit-learn (formerly scikits.learn) is a free software machine learning library for the Python programming language. It features various classification, regression and clustering algorithms including support vector machines, random forests, gradient boosting, k-means and DBSCAN, and is designed to interoperate with the Python numerical and scientific libraries NumPy and SciPy. The library is built upon the SciPy (Scientific Python) that must be installed before you can use scikit-learn.\n",
    "- Pickle : Python pickle module is used for serializing and de-serializing a Python object structure. Pickling is a way to convert a python object (list, dict, etc.) into a character stream. The idea is that this character stream contains all the information necessary to reconstruct the object in another python script.\n",
    "- Seaborn : Seaborn is a Python data visualization library based on matplotlib. It provides a high-level interface for drawing attractive and informative statistical graphics.\n",
    "\n"
   ]
  },
  {
   "cell_type": "code",
   "execution_count": 1,
   "id": "540ab592",
   "metadata": {},
   "outputs": [],
   "source": [
    "# import all required libraries\n",
    "import numpy as np\n",
    "import pandas as pd\n",
    "from matplotlib.pyplot import figure\n",
    "import matplotlib.pyplot as plt\n",
    "from sklearn.metrics import mean_absolute_percentage_error\n",
    "from sklearn.metrics import mean_squared_error\n",
    "from sklearn.metrics import r2_score\n",
    "from sklearn.preprocessing import scale \n",
    "from sklearn.linear_model import LinearRegression, Ridge, RidgeCV, Lasso, LassoCV\n",
    "from sklearn.model_selection import KFold, cross_val_score, train_test_split\n",
    "from sklearn.metrics import mean_squared_error\n",
    "from sklearn.decomposition import PCA\n",
    "import pandas as pd\n",
    "import warnings\n",
    "from sklearn import preprocessing\n",
    "import seaborn as sns\n",
    "\n",
    "warnings.filterwarnings('ignore')"
   ]
  },
  {
   "cell_type": "code",
   "execution_count": 2,
   "id": "9c655370",
   "metadata": {},
   "outputs": [],
   "source": [
    "# Read preprocess csv file\n",
    "df = pd.read_csv('df2.csv')"
   ]
  },
  {
   "cell_type": "code",
   "execution_count": 3,
   "id": "6fa18694",
   "metadata": {},
   "outputs": [],
   "source": [
    "# Drop Unnamed: 0 column \n",
    "df = df.drop('Unnamed: 0',axis=1)"
   ]
  },
  {
   "cell_type": "code",
   "execution_count": 4,
   "id": "188a7c25",
   "metadata": {},
   "outputs": [
    {
     "data": {
      "text/html": [
       "<div>\n",
       "<style scoped>\n",
       "    .dataframe tbody tr th:only-of-type {\n",
       "        vertical-align: middle;\n",
       "    }\n",
       "\n",
       "    .dataframe tbody tr th {\n",
       "        vertical-align: top;\n",
       "    }\n",
       "\n",
       "    .dataframe thead th {\n",
       "        text-align: right;\n",
       "    }\n",
       "</style>\n",
       "<table border=\"1\" class=\"dataframe\">\n",
       "  <thead>\n",
       "    <tr style=\"text-align: right;\">\n",
       "      <th></th>\n",
       "      <th>diagnosis</th>\n",
       "      <th>radius_mean</th>\n",
       "      <th>texture_mean</th>\n",
       "      <th>smoothness_mean</th>\n",
       "      <th>compactness_mean</th>\n",
       "      <th>symmetry_mean</th>\n",
       "      <th>fractal_dimension_mean</th>\n",
       "      <th>radius_se</th>\n",
       "      <th>texture_se</th>\n",
       "      <th>smoothness_se</th>\n",
       "      <th>compactness_se</th>\n",
       "      <th>concave points_se</th>\n",
       "      <th>symmetry_se</th>\n",
       "      <th>symmetry_worst</th>\n",
       "    </tr>\n",
       "  </thead>\n",
       "  <tbody>\n",
       "    <tr>\n",
       "      <th>0</th>\n",
       "      <td>1</td>\n",
       "      <td>17.99</td>\n",
       "      <td>10.38</td>\n",
       "      <td>0.11840</td>\n",
       "      <td>0.27760</td>\n",
       "      <td>0.2419</td>\n",
       "      <td>0.07871</td>\n",
       "      <td>1.0950</td>\n",
       "      <td>0.9053</td>\n",
       "      <td>0.006399</td>\n",
       "      <td>0.04904</td>\n",
       "      <td>0.01587</td>\n",
       "      <td>0.03003</td>\n",
       "      <td>0.4601</td>\n",
       "    </tr>\n",
       "    <tr>\n",
       "      <th>1</th>\n",
       "      <td>1</td>\n",
       "      <td>20.57</td>\n",
       "      <td>17.77</td>\n",
       "      <td>0.08474</td>\n",
       "      <td>0.07864</td>\n",
       "      <td>0.1812</td>\n",
       "      <td>0.05667</td>\n",
       "      <td>0.5435</td>\n",
       "      <td>0.7339</td>\n",
       "      <td>0.005225</td>\n",
       "      <td>0.01308</td>\n",
       "      <td>0.01340</td>\n",
       "      <td>0.01389</td>\n",
       "      <td>0.2750</td>\n",
       "    </tr>\n",
       "    <tr>\n",
       "      <th>2</th>\n",
       "      <td>1</td>\n",
       "      <td>19.69</td>\n",
       "      <td>21.25</td>\n",
       "      <td>0.10960</td>\n",
       "      <td>0.15990</td>\n",
       "      <td>0.2069</td>\n",
       "      <td>0.05999</td>\n",
       "      <td>0.7456</td>\n",
       "      <td>0.7869</td>\n",
       "      <td>0.006150</td>\n",
       "      <td>0.04006</td>\n",
       "      <td>0.02058</td>\n",
       "      <td>0.02250</td>\n",
       "      <td>0.3613</td>\n",
       "    </tr>\n",
       "    <tr>\n",
       "      <th>3</th>\n",
       "      <td>1</td>\n",
       "      <td>11.42</td>\n",
       "      <td>20.38</td>\n",
       "      <td>0.14250</td>\n",
       "      <td>0.28390</td>\n",
       "      <td>0.2597</td>\n",
       "      <td>0.09744</td>\n",
       "      <td>0.4956</td>\n",
       "      <td>1.1560</td>\n",
       "      <td>0.009110</td>\n",
       "      <td>0.07458</td>\n",
       "      <td>0.01867</td>\n",
       "      <td>0.05963</td>\n",
       "      <td>0.6638</td>\n",
       "    </tr>\n",
       "    <tr>\n",
       "      <th>4</th>\n",
       "      <td>1</td>\n",
       "      <td>20.29</td>\n",
       "      <td>14.34</td>\n",
       "      <td>0.10030</td>\n",
       "      <td>0.13280</td>\n",
       "      <td>0.1809</td>\n",
       "      <td>0.05883</td>\n",
       "      <td>0.7572</td>\n",
       "      <td>0.7813</td>\n",
       "      <td>0.011490</td>\n",
       "      <td>0.02461</td>\n",
       "      <td>0.01885</td>\n",
       "      <td>0.01756</td>\n",
       "      <td>0.2364</td>\n",
       "    </tr>\n",
       "    <tr>\n",
       "      <th>...</th>\n",
       "      <td>...</td>\n",
       "      <td>...</td>\n",
       "      <td>...</td>\n",
       "      <td>...</td>\n",
       "      <td>...</td>\n",
       "      <td>...</td>\n",
       "      <td>...</td>\n",
       "      <td>...</td>\n",
       "      <td>...</td>\n",
       "      <td>...</td>\n",
       "      <td>...</td>\n",
       "      <td>...</td>\n",
       "      <td>...</td>\n",
       "      <td>...</td>\n",
       "    </tr>\n",
       "    <tr>\n",
       "      <th>564</th>\n",
       "      <td>1</td>\n",
       "      <td>21.56</td>\n",
       "      <td>22.39</td>\n",
       "      <td>0.11100</td>\n",
       "      <td>0.11590</td>\n",
       "      <td>0.1726</td>\n",
       "      <td>0.05623</td>\n",
       "      <td>1.1760</td>\n",
       "      <td>1.2560</td>\n",
       "      <td>0.010300</td>\n",
       "      <td>0.02891</td>\n",
       "      <td>0.02454</td>\n",
       "      <td>0.01114</td>\n",
       "      <td>0.2060</td>\n",
       "    </tr>\n",
       "    <tr>\n",
       "      <th>565</th>\n",
       "      <td>1</td>\n",
       "      <td>20.13</td>\n",
       "      <td>28.25</td>\n",
       "      <td>0.09780</td>\n",
       "      <td>0.10340</td>\n",
       "      <td>0.1752</td>\n",
       "      <td>0.05533</td>\n",
       "      <td>0.7655</td>\n",
       "      <td>2.4630</td>\n",
       "      <td>0.005769</td>\n",
       "      <td>0.02423</td>\n",
       "      <td>0.01678</td>\n",
       "      <td>0.01898</td>\n",
       "      <td>0.2572</td>\n",
       "    </tr>\n",
       "    <tr>\n",
       "      <th>566</th>\n",
       "      <td>1</td>\n",
       "      <td>16.60</td>\n",
       "      <td>28.08</td>\n",
       "      <td>0.08455</td>\n",
       "      <td>0.10230</td>\n",
       "      <td>0.1590</td>\n",
       "      <td>0.05648</td>\n",
       "      <td>0.4564</td>\n",
       "      <td>1.0750</td>\n",
       "      <td>0.005903</td>\n",
       "      <td>0.03731</td>\n",
       "      <td>0.01557</td>\n",
       "      <td>0.01318</td>\n",
       "      <td>0.2218</td>\n",
       "    </tr>\n",
       "    <tr>\n",
       "      <th>567</th>\n",
       "      <td>1</td>\n",
       "      <td>20.60</td>\n",
       "      <td>29.33</td>\n",
       "      <td>0.11780</td>\n",
       "      <td>0.27700</td>\n",
       "      <td>0.2397</td>\n",
       "      <td>0.07016</td>\n",
       "      <td>0.7260</td>\n",
       "      <td>1.5950</td>\n",
       "      <td>0.006522</td>\n",
       "      <td>0.06158</td>\n",
       "      <td>0.01664</td>\n",
       "      <td>0.02324</td>\n",
       "      <td>0.4087</td>\n",
       "    </tr>\n",
       "    <tr>\n",
       "      <th>568</th>\n",
       "      <td>0</td>\n",
       "      <td>7.76</td>\n",
       "      <td>24.54</td>\n",
       "      <td>0.05263</td>\n",
       "      <td>0.04362</td>\n",
       "      <td>0.1587</td>\n",
       "      <td>0.05884</td>\n",
       "      <td>0.3857</td>\n",
       "      <td>1.4280</td>\n",
       "      <td>0.007189</td>\n",
       "      <td>0.00466</td>\n",
       "      <td>0.00000</td>\n",
       "      <td>0.02676</td>\n",
       "      <td>0.2871</td>\n",
       "    </tr>\n",
       "  </tbody>\n",
       "</table>\n",
       "<p>569 rows × 14 columns</p>\n",
       "</div>"
      ],
      "text/plain": [
       "     diagnosis  radius_mean  texture_mean  smoothness_mean  compactness_mean  \\\n",
       "0            1        17.99         10.38          0.11840           0.27760   \n",
       "1            1        20.57         17.77          0.08474           0.07864   \n",
       "2            1        19.69         21.25          0.10960           0.15990   \n",
       "3            1        11.42         20.38          0.14250           0.28390   \n",
       "4            1        20.29         14.34          0.10030           0.13280   \n",
       "..         ...          ...           ...              ...               ...   \n",
       "564          1        21.56         22.39          0.11100           0.11590   \n",
       "565          1        20.13         28.25          0.09780           0.10340   \n",
       "566          1        16.60         28.08          0.08455           0.10230   \n",
       "567          1        20.60         29.33          0.11780           0.27700   \n",
       "568          0         7.76         24.54          0.05263           0.04362   \n",
       "\n",
       "     symmetry_mean  fractal_dimension_mean  radius_se  texture_se  \\\n",
       "0           0.2419                 0.07871     1.0950      0.9053   \n",
       "1           0.1812                 0.05667     0.5435      0.7339   \n",
       "2           0.2069                 0.05999     0.7456      0.7869   \n",
       "3           0.2597                 0.09744     0.4956      1.1560   \n",
       "4           0.1809                 0.05883     0.7572      0.7813   \n",
       "..             ...                     ...        ...         ...   \n",
       "564         0.1726                 0.05623     1.1760      1.2560   \n",
       "565         0.1752                 0.05533     0.7655      2.4630   \n",
       "566         0.1590                 0.05648     0.4564      1.0750   \n",
       "567         0.2397                 0.07016     0.7260      1.5950   \n",
       "568         0.1587                 0.05884     0.3857      1.4280   \n",
       "\n",
       "     smoothness_se  compactness_se  concave points_se  symmetry_se  \\\n",
       "0         0.006399         0.04904            0.01587      0.03003   \n",
       "1         0.005225         0.01308            0.01340      0.01389   \n",
       "2         0.006150         0.04006            0.02058      0.02250   \n",
       "3         0.009110         0.07458            0.01867      0.05963   \n",
       "4         0.011490         0.02461            0.01885      0.01756   \n",
       "..             ...             ...                ...          ...   \n",
       "564       0.010300         0.02891            0.02454      0.01114   \n",
       "565       0.005769         0.02423            0.01678      0.01898   \n",
       "566       0.005903         0.03731            0.01557      0.01318   \n",
       "567       0.006522         0.06158            0.01664      0.02324   \n",
       "568       0.007189         0.00466            0.00000      0.02676   \n",
       "\n",
       "     symmetry_worst  \n",
       "0            0.4601  \n",
       "1            0.2750  \n",
       "2            0.3613  \n",
       "3            0.6638  \n",
       "4            0.2364  \n",
       "..              ...  \n",
       "564          0.2060  \n",
       "565          0.2572  \n",
       "566          0.2218  \n",
       "567          0.4087  \n",
       "568          0.2871  \n",
       "\n",
       "[569 rows x 14 columns]"
      ]
     },
     "execution_count": 4,
     "metadata": {},
     "output_type": "execute_result"
    }
   ],
   "source": [
    "df"
   ]
  },
  {
   "cell_type": "code",
   "execution_count": 5,
   "id": "44dac501",
   "metadata": {},
   "outputs": [
    {
     "name": "stdout",
     "output_type": "stream",
     "text": [
      "<class 'pandas.core.frame.DataFrame'>\n",
      "RangeIndex: 569 entries, 0 to 568\n",
      "Data columns (total 14 columns):\n",
      " #   Column                  Non-Null Count  Dtype  \n",
      "---  ------                  --------------  -----  \n",
      " 0   diagnosis               569 non-null    int64  \n",
      " 1   radius_mean             569 non-null    float64\n",
      " 2   texture_mean            569 non-null    float64\n",
      " 3   smoothness_mean         569 non-null    float64\n",
      " 4   compactness_mean        569 non-null    float64\n",
      " 5   symmetry_mean           569 non-null    float64\n",
      " 6   fractal_dimension_mean  569 non-null    float64\n",
      " 7   radius_se               569 non-null    float64\n",
      " 8   texture_se              569 non-null    float64\n",
      " 9   smoothness_se           569 non-null    float64\n",
      " 10  compactness_se          569 non-null    float64\n",
      " 11  concave points_se       569 non-null    float64\n",
      " 12  symmetry_se             569 non-null    float64\n",
      " 13  symmetry_worst          569 non-null    float64\n",
      "dtypes: float64(13), int64(1)\n",
      "memory usage: 62.4 KB\n"
     ]
    }
   ],
   "source": [
    "df.info()"
   ]
  },
  {
   "cell_type": "markdown",
   "id": "7d4c4d95",
   "metadata": {},
   "source": [
    "# Step 2: Data Preparation\n",
    "**Goal:-**"
   ]
  },
  {
   "cell_type": "markdown",
   "id": "f9f4b986",
   "metadata": {},
   "source": [
    "Tasks we are going to in this step"
   ]
  },
  {
   "cell_type": "markdown",
   "id": "41a34090",
   "metadata": {},
   "source": [
    "1. Now we gonna spearate the target variable and feature columns in two different dataframe and will check the shape of the dataset for validation purpose.\n",
    "2. Split dataset into train and test dataset\n",
    "3. Scaling on train dataset"
   ]
  },
  {
   "cell_type": "markdown",
   "id": "1e17ddce",
   "metadata": {},
   "source": [
    "**1. Now we spearate the target variable and feature columns in two different dataframe and will check the shape of the dataset for validation purpose.**"
   ]
  },
  {
   "cell_type": "code",
   "execution_count": 6,
   "id": "6c480a34",
   "metadata": {},
   "outputs": [],
   "source": [
    "# Spearate target and feature column in X and y variable\n",
    "target = 'diagnosis'\n",
    "X = df.drop(target,axis=1)\n",
    "y = df[target]"
   ]
  },
  {
   "cell_type": "code",
   "execution_count": 7,
   "id": "fe3fd4d8",
   "metadata": {},
   "outputs": [
    {
     "name": "stdout",
     "output_type": "stream",
     "text": [
      "<class 'pandas.core.frame.DataFrame'>\n",
      "RangeIndex: 569 entries, 0 to 568\n",
      "Data columns (total 13 columns):\n",
      " #   Column                  Non-Null Count  Dtype  \n",
      "---  ------                  --------------  -----  \n",
      " 0   radius_mean             569 non-null    float64\n",
      " 1   texture_mean            569 non-null    float64\n",
      " 2   smoothness_mean         569 non-null    float64\n",
      " 3   compactness_mean        569 non-null    float64\n",
      " 4   symmetry_mean           569 non-null    float64\n",
      " 5   fractal_dimension_mean  569 non-null    float64\n",
      " 6   radius_se               569 non-null    float64\n",
      " 7   texture_se              569 non-null    float64\n",
      " 8   smoothness_se           569 non-null    float64\n",
      " 9   compactness_se          569 non-null    float64\n",
      " 10  concave points_se       569 non-null    float64\n",
      " 11  symmetry_se             569 non-null    float64\n",
      " 12  symmetry_worst          569 non-null    float64\n",
      "dtypes: float64(13)\n",
      "memory usage: 57.9 KB\n"
     ]
    }
   ],
   "source": [
    "X.info()"
   ]
  },
  {
   "cell_type": "code",
   "execution_count": 8,
   "id": "39040035",
   "metadata": {},
   "outputs": [
    {
     "data": {
      "text/plain": [
       "0      1\n",
       "1      1\n",
       "2      1\n",
       "3      1\n",
       "4      1\n",
       "      ..\n",
       "564    1\n",
       "565    1\n",
       "566    1\n",
       "567    1\n",
       "568    0\n",
       "Name: diagnosis, Length: 569, dtype: int64"
      ]
     },
     "execution_count": 8,
     "metadata": {},
     "output_type": "execute_result"
    }
   ],
   "source": [
    "y"
   ]
  },
  {
   "cell_type": "code",
   "execution_count": 9,
   "id": "4bf42157",
   "metadata": {},
   "outputs": [
    {
     "data": {
      "text/plain": [
       "((569, 13), (569,))"
      ]
     },
     "execution_count": 9,
     "metadata": {},
     "output_type": "execute_result"
    }
   ],
   "source": [
    "# Check the shape of X and y variable\n",
    "X.shape, y.shape"
   ]
  },
  {
   "cell_type": "code",
   "execution_count": 10,
   "id": "2d1b2a74",
   "metadata": {},
   "outputs": [],
   "source": [
    "# Reshape the y variable \n",
    "y = y.values.reshape(-1,1)"
   ]
  },
  {
   "cell_type": "code",
   "execution_count": 11,
   "id": "1750c19c",
   "metadata": {},
   "outputs": [
    {
     "data": {
      "text/plain": [
       "((569, 13), (569, 1))"
      ]
     },
     "execution_count": 11,
     "metadata": {},
     "output_type": "execute_result"
    }
   ],
   "source": [
    "# Again check the shape of X and y variable\n",
    "X.shape, y.shape"
   ]
  },
  {
   "cell_type": "markdown",
   "id": "93477dbe",
   "metadata": {},
   "source": [
    "2. Split dataset into train and test dataset\n",
    "\n",
    "*Here we are spliting our dataset into 80/20 percentage where 80% dataset goes into the training and 20% goes into testing the part.*"
   ]
  },
  {
   "cell_type": "code",
   "execution_count": 12,
   "id": "045fc034",
   "metadata": {},
   "outputs": [],
   "source": [
    "# Split the X and y into X_train, X_test, y_train, y_test variables with 80-20% split.\n",
    "X_train, X_test, y_train, y_test = train_test_split(X, y, test_size=0.2, random_state=42)"
   ]
  },
  {
   "cell_type": "code",
   "execution_count": 13,
   "id": "0ee1db2a",
   "metadata": {},
   "outputs": [
    {
     "data": {
      "text/plain": [
       "((455, 13), (114, 13), (455, 1), (114, 1))"
      ]
     },
     "execution_count": 13,
     "metadata": {},
     "output_type": "execute_result"
    }
   ],
   "source": [
    "# Check shape of the splitted variables\n",
    "X_train.shape, X_test.shape, y_train.shape, y_test.shape"
   ]
  },
  {
   "cell_type": "markdown",
   "id": "37fa5471",
   "metadata": {},
   "source": [
    "# Step 3: Model Training"
   ]
  },
  {
   "cell_type": "markdown",
   "id": "87c3f1e5",
   "metadata": {},
   "source": [
    "**Goal:- In this step we are going to train our dataset on different classification algorithms. As we know that our target variable is in continous format so we have to apply classification algorithm as our target varibal is a category like filtering.In our dataset we have the outcome variable or Dependent variable i.e Y having only two set of values, either M (Malign) or B(Benign). So we will use Classification algorithm**\n",
    "\n",
    "*Algorithms we are going to use in this step.*\n",
    "\n",
    "1. Logistic Regression\n",
    "2. Nearest Neighbor\n",
    "3. Random Forest Classification "
   ]
  },
  {
   "cell_type": "code",
   "execution_count": 14,
   "id": "32f742ee",
   "metadata": {},
   "outputs": [],
   "source": [
    "# Define kfold with 10 split\n",
    "cv = KFold(n_splits=10, shuffle=True, random_state=42)"
   ]
  },
  {
   "cell_type": "markdown",
   "id": "267410de",
   "metadata": {},
   "source": [
    "The goal of cross-validation is to test the model's ability to predict new data that was not used in estimating it, in order to flag problems like overfitting or selection bias and to give an insight on how the model will generalize to an independent dataset (i.e., an unknown dataset, for instance from a real problem)."
   ]
  },
  {
   "cell_type": "markdown",
   "id": "343464ac",
   "metadata": {},
   "source": [
    "# 1. **Logistic Regression**"
   ]
  },
  {
   "cell_type": "markdown",
   "id": "9bd077d7",
   "metadata": {},
   "source": [
    "**Train set cross-validation**"
   ]
  },
  {
   "cell_type": "code",
   "execution_count": 15,
   "id": "6a3bd104",
   "metadata": {},
   "outputs": [
    {
     "data": {
      "text/plain": [
       "LogisticRegression()"
      ]
     },
     "execution_count": 15,
     "metadata": {},
     "output_type": "execute_result"
    }
   ],
   "source": [
    "#Using Logistic Regression Algorithm to the Training Set\n",
    "from sklearn.linear_model import LogisticRegression\n",
    "\n",
    "log_R = LogisticRegression()\n",
    "\n",
    "log_R.fit(X_train, y_train)\n"
   ]
  },
  {
   "cell_type": "code",
   "execution_count": 16,
   "id": "78100fed",
   "metadata": {},
   "outputs": [
    {
     "data": {
      "text/plain": [
       "0.9032967032967033"
      ]
     },
     "execution_count": 16,
     "metadata": {},
     "output_type": "execute_result"
    }
   ],
   "source": [
    "#accuracy check of trainig data\n",
    "#Get R2 score\n",
    "log_R.score(X_train, y_train)\n"
   ]
  },
  {
   "cell_type": "code",
   "execution_count": 17,
   "id": "f7a43f10",
   "metadata": {},
   "outputs": [
    {
     "data": {
      "text/plain": [
       "0.9210526315789473"
      ]
     },
     "execution_count": 17,
     "metadata": {},
     "output_type": "execute_result"
    }
   ],
   "source": [
    "#accuracy of test data\n",
    "log_R.score(X_test, y_test) "
   ]
  },
  {
   "cell_type": "code",
   "execution_count": 18,
   "id": "39477e6a",
   "metadata": {},
   "outputs": [
    {
     "data": {
      "text/plain": [
       "array([0.29488391, 0.29488391, 0.25537696, 0.36115756, 0.39009475,\n",
       "       0.39440532, 0.2981424 , 0.33333333, 0.2981424 , 0.2981424 ])"
      ]
     },
     "execution_count": 18,
     "metadata": {},
     "output_type": "execute_result"
    }
   ],
   "source": [
    "# get kfold values\n",
    "lg_scores = -1 * cross_val_score(log_R, \n",
    "                                 X_train, \n",
    "                                 y_train, \n",
    "                                 cv=cv, \n",
    "                                 scoring='neg_root_mean_squared_error')\n",
    "lg_scores"
   ]
  },
  {
   "cell_type": "code",
   "execution_count": 19,
   "id": "91fcc728",
   "metadata": {},
   "outputs": [
    {
     "data": {
      "text/plain": [
       "0.32185629351138245"
      ]
     },
     "execution_count": 19,
     "metadata": {},
     "output_type": "execute_result"
    }
   ],
   "source": [
    "# mean of the train kfold scores\n",
    "lg_score_train = np.mean(lg_scores)\n",
    "lg_score_train\n"
   ]
  },
  {
   "cell_type": "markdown",
   "id": "97564e36",
   "metadata": {},
   "source": [
    "# **Predict**"
   ]
  },
  {
   "cell_type": "code",
   "execution_count": 20,
   "id": "d1150b2d",
   "metadata": {},
   "outputs": [],
   "source": [
    "# predict the values on X_test_scaled dataset \n",
    "y_predicted = log_R.predict(X_test)"
   ]
  },
  {
   "cell_type": "code",
   "execution_count": 21,
   "id": "62f92c1c",
   "metadata": {},
   "outputs": [],
   "source": [
    "# Constructing the confusion matrix.\n",
    "from sklearn.metrics import confusion_matrix"
   ]
  },
  {
   "cell_type": "code",
   "execution_count": 22,
   "id": "64ba929d",
   "metadata": {},
   "outputs": [],
   "source": [
    "#confusion matrix btw y_test and y_predicted\n",
    "cm = confusion_matrix(y_test,y_predicted)"
   ]
  },
  {
   "cell_type": "code",
   "execution_count": 23,
   "id": "5b46aa37",
   "metadata": {},
   "outputs": [
    {
     "data": {
      "text/plain": [
       "Text(33.0, 0.5, 'True Class')"
      ]
     },
     "execution_count": 23,
     "metadata": {},
     "output_type": "execute_result"
    },
    {
     "data": {
      "image/png": "[encoded data removed]",
      "text/plain": [
       "<Figure size 432x288 with 1 Axes>"
      ]
     },
     "metadata": {
      "needs_background": "light"
     },
     "output_type": "display_data"
    }
   ],
   "source": [
    "#We are drawing cm on heatmap to have better understanding \n",
    "# sns.heatmap(cm,cmap = 'Red') ~ to check for available colors\n",
    "sns.heatmap(cm,cmap = 'icefire_r', annot = True, fmt= 'd', cbar=False, linecolor='Black', linewidth = 2)\n",
    "plt.title(\"Confusion matrix\")\n",
    "plt.xticks(np.arange(2)+.5,['Non-Maligant', 'Maligant'])\n",
    "plt.yticks(np.arange(2)+.5,['Non=Maligant', 'Maligant'])\n",
    "plt.xlabel('Predicted CLass')\n",
    "plt.ylabel('True Class')"
   ]
  },
  {
   "cell_type": "code",
   "execution_count": 24,
   "id": "bdd42373",
   "metadata": {},
   "outputs": [
    {
     "data": {
      "text/plain": [
       "<AxesSubplot:>"
      ]
     },
     "execution_count": 24,
     "metadata": {},
     "output_type": "execute_result"
    },
    {
     "data": {
      "image/png": "[encoded data removed]",
      "text/plain": [
       "<Figure size 432x288 with 1 Axes>"
      ]
     },
     "metadata": {
      "needs_background": "light"
     },
     "output_type": "display_data"
    }
   ],
   "source": [
    "sns.heatmap(cm/np.sum(cm), annot=True, \n",
    "            fmt='.2%', cmap='Blues', cbar = False)\n"
   ]
  },
  {
   "cell_type": "markdown",
   "id": "3eff13f3",
   "metadata": {},
   "source": [
    "# Building all kinds of evaluating parameters"
   ]
  },
  {
   "cell_type": "code",
   "execution_count": 25,
   "id": "a267cbb6",
   "metadata": {},
   "outputs": [
    {
     "name": "stdout",
     "output_type": "stream",
     "text": [
      "The model used is Logistic Regression\n",
      "\n",
      "The accuracy is 0.9210526315789473\n",
      "The precision is 0.925\n",
      "The recall is 0.8604651162790697\n",
      "The F1-Score is 0.891566265060241\n"
     ]
    }
   ],
   "source": [
    "# Evaluating the classifier\n",
    "# printing every score of the classifier\n",
    "# scoring in anything\n",
    "from sklearn.metrics import classification_report \n",
    "from sklearn.metrics import f1_score, accuracy_score, precision_score,recall_score\n",
    "from sklearn.metrics import confusion_matrix\n",
    "  \n",
    "\n",
    "print(\"The model used is Logistic Regression\")\n",
    "  \n",
    "acc = accuracy_score(y_test, y_predicted)\n",
    "print(\"\\nThe accuracy is {}\".format(acc))\n",
    "  \n",
    "prec = precision_score(y_test, y_predicted)\n",
    "print(\"The precision is {}\".format(prec))\n",
    "  \n",
    "rec = recall_score(y_test, y_predicted)\n",
    "print(\"The recall is {}\".format(rec))\n",
    "  \n",
    "f1 = f1_score(y_test, y_predicted)\n",
    "print(\"The F1-Score is {}\".format(f1))\n",
    "  "
   ]
  },
  {
   "cell_type": "code",
   "execution_count": null,
   "id": "a23f694e",
   "metadata": {},
   "outputs": [],
   "source": []
  },
  {
   "cell_type": "markdown",
   "id": "d13b66d6",
   "metadata": {},
   "source": [
    "# 2. Nearest Neighbor"
   ]
  },
  {
   "cell_type": "code",
   "execution_count": 26,
   "id": "7d974176",
   "metadata": {},
   "outputs": [
    {
     "data": {
      "text/plain": [
       "KNeighborsClassifier()"
      ]
     },
     "execution_count": 26,
     "metadata": {},
     "output_type": "execute_result"
    }
   ],
   "source": [
    "#Using KNeighborsClassifier Method of neighbors class to use Nearest Neighbor algorithm\n",
    "from sklearn.neighbors import KNeighborsClassifier\n",
    "classifier = KNeighborsClassifier()\n",
    "classifier.fit(X_train, y_train)"
   ]
  },
  {
   "cell_type": "code",
   "execution_count": 27,
   "id": "afc13c39",
   "metadata": {},
   "outputs": [
    {
     "data": {
      "text/plain": [
       "0.9032967032967033"
      ]
     },
     "execution_count": 27,
     "metadata": {},
     "output_type": "execute_result"
    }
   ],
   "source": [
    "#accuracy check of trainig data\n",
    "#Get R2 score\n",
    "classifier.score(X_train, y_train)\n"
   ]
  },
  {
   "cell_type": "code",
   "execution_count": 28,
   "id": "ac8f7723",
   "metadata": {},
   "outputs": [
    {
     "data": {
      "text/plain": [
       "0.9122807017543859"
      ]
     },
     "execution_count": 28,
     "metadata": {},
     "output_type": "execute_result"
    }
   ],
   "source": [
    "#accuracy of test data\n",
    "classifier.score(X_test, y_test) "
   ]
  },
  {
   "cell_type": "code",
   "execution_count": 29,
   "id": "7315dcea",
   "metadata": {},
   "outputs": [
    {
     "data": {
      "text/plain": [
       "array([0.36115756, 0.32969024, 0.32969024, 0.39009475, 0.32969024,\n",
       "       0.36514837, 0.2981424 , 0.36514837, 0.25819889, 0.39440532])"
      ]
     },
     "execution_count": 29,
     "metadata": {},
     "output_type": "execute_result"
    }
   ],
   "source": [
    "# get kfold values\n",
    "Nn_scores = -1 * cross_val_score(classifier, \n",
    "                                    X_train, \n",
    "                                    y_train, \n",
    "                                    cv=cv, \n",
    "                                    scoring='neg_root_mean_squared_error')\n",
    "Nn_scores\n",
    "\n"
   ]
  },
  {
   "cell_type": "code",
   "execution_count": 30,
   "id": "14ec431b",
   "metadata": {},
   "outputs": [
    {
     "data": {
      "text/plain": [
       "0.3421366367114397"
      ]
     },
     "execution_count": 30,
     "metadata": {},
     "output_type": "execute_result"
    }
   ],
   "source": [
    "# mean of the train kfold scores\n",
    "Nn_score_train = np.mean(Nn_scores)\n",
    "Nn_score_train"
   ]
  },
  {
   "cell_type": "markdown",
   "id": "fae62f7e",
   "metadata": {},
   "source": [
    "# **Predict**"
   ]
  },
  {
   "cell_type": "code",
   "execution_count": 31,
   "id": "3fc70ea0",
   "metadata": {},
   "outputs": [],
   "source": [
    "# predict the values on X_test_scaled dataset \n",
    "y_predicted = classifier.predict(X_test)"
   ]
  },
  {
   "cell_type": "code",
   "execution_count": 32,
   "id": "9acce870",
   "metadata": {},
   "outputs": [],
   "source": [
    "# Constructing the confusion matrix.\n",
    "from sklearn.metrics import confusion_matrix"
   ]
  },
  {
   "cell_type": "code",
   "execution_count": 33,
   "id": "f8553a6c",
   "metadata": {},
   "outputs": [],
   "source": [
    "#confusion matrix btw y_test and y_predicted\n",
    "cm = confusion_matrix(y_test,y_predicted)"
   ]
  },
  {
   "cell_type": "code",
   "execution_count": 34,
   "id": "720cc537",
   "metadata": {},
   "outputs": [
    {
     "data": {
      "text/plain": [
       "Text(33.0, 0.5, 'True Class')"
      ]
     },
     "execution_count": 34,
     "metadata": {},
     "output_type": "execute_result"
    },
    {
     "data": {
      "image/png": "[encoded data removed]",
      "text/plain": [
       "<Figure size 432x288 with 1 Axes>"
      ]
     },
     "metadata": {
      "needs_background": "light"
     },
     "output_type": "display_data"
    }
   ],
   "source": [
    "#We are drawing cm on heatmap to have better understanding \n",
    "# sns.heatmap(cm,cmap = 'Red') ~ to check for available colors\n",
    "sns.heatmap(cm,cmap = 'icefire_r', annot = True, fmt= 'd', cbar=False, linecolor='Black', linewidth = 2)\n",
    "plt.title(\"Confusion matrix\")\n",
    "plt.xticks(np.arange(2)+.5,['Non-Maligant', 'Maligant'])\n",
    "plt.yticks(np.arange(2)+.5,['Non=Maligant', 'Maligant'])\n",
    "plt.xlabel('Predicted CLass')\n",
    "plt.ylabel('True Class')"
   ]
  },
  {
   "cell_type": "code",
   "execution_count": 35,
   "id": "b4e3470a",
   "metadata": {},
   "outputs": [
    {
     "data": {
      "text/plain": [
       "<AxesSubplot:>"
      ]
     },
     "execution_count": 35,
     "metadata": {},
     "output_type": "execute_result"
    },
    {
     "data": {
      "image/png": "[encoded data removed]",
      "text/plain": [
       "<Figure size 432x288 with 1 Axes>"
      ]
     },
     "metadata": {
      "needs_background": "light"
     },
     "output_type": "display_data"
    }
   ],
   "source": [
    "sns.heatmap(cm/np.sum(cm), annot=True, \n",
    "            fmt='.2%', cmap='Blues', cbar = False)\n"
   ]
  },
  {
   "cell_type": "markdown",
   "id": "a31cd02f",
   "metadata": {},
   "source": [
    "# Building all kinds of evaluating parameters"
   ]
  },
  {
   "cell_type": "code",
   "execution_count": 36,
   "id": "f459dc58",
   "metadata": {},
   "outputs": [
    {
     "name": "stdout",
     "output_type": "stream",
     "text": [
      "The model used is KNeighbors Classifier\n",
      "\n",
      "The accuracy is 0.9122807017543859\n",
      "The precision is 0.9024390243902439\n",
      "The recall is 0.8604651162790697\n",
      "The F1-Score is 0.8809523809523809\n"
     ]
    }
   ],
   "source": [
    "# Evaluating the classifier\n",
    "# printing every score of the classifier\n",
    "# scoring in anything\n",
    "from sklearn.metrics import classification_report \n",
    "from sklearn.metrics import f1_score, accuracy_score, precision_score,recall_score\n",
    "from sklearn.metrics import confusion_matrix\n",
    "  \n",
    "\n",
    "print(\"The model used is KNeighbors Classifier\")\n",
    "  \n",
    "acc = accuracy_score(y_test, y_predicted)\n",
    "print(\"\\nThe accuracy is {}\".format(acc))\n",
    "  \n",
    "prec = precision_score(y_test, y_predicted)\n",
    "print(\"The precision is {}\".format(prec))\n",
    "  \n",
    "rec = recall_score(y_test, y_predicted)\n",
    "print(\"The recall is {}\".format(rec))\n",
    "  \n",
    "f1 = f1_score(y_test, y_predicted)\n",
    "print(\"The F1-Score is {}\".format(f1))\n",
    "  "
   ]
  },
  {
   "cell_type": "code",
   "execution_count": null,
   "id": "e97d5736",
   "metadata": {},
   "outputs": [],
   "source": []
  },
  {
   "cell_type": "code",
   "execution_count": null,
   "id": "18fc0fae",
   "metadata": {},
   "outputs": [],
   "source": []
  },
  {
   "cell_type": "markdown",
   "id": "c24bf304",
   "metadata": {},
   "source": [
    "# 3. Decision Tree Algorithm"
   ]
  },
  {
   "cell_type": "code",
   "execution_count": 37,
   "id": "fb2061f5",
   "metadata": {},
   "outputs": [
    {
     "data": {
      "text/plain": [
       "RandomForestClassifier()"
      ]
     },
     "execution_count": 37,
     "metadata": {},
     "output_type": "execute_result"
    }
   ],
   "source": [
    "#Using RandomForestClassifier method of ensemble class to use Random Forest Classification algorithm\n",
    "\n",
    "from sklearn.ensemble import RandomForestClassifier\n",
    "#clas = RandomForestClassifier(n_estimators = 10, criterion = 'entropy', random_state = 0)\n",
    "clas = RandomForestClassifier()\n",
    "clas.fit(X_train, y_train)\n"
   ]
  },
  {
   "cell_type": "code",
   "execution_count": 38,
   "id": "667d337c",
   "metadata": {},
   "outputs": [
    {
     "data": {
      "text/plain": [
       "1.0"
      ]
     },
     "execution_count": 38,
     "metadata": {},
     "output_type": "execute_result"
    }
   ],
   "source": [
    "#accuracy check of trainig data\n",
    "#Get R2 score\n",
    "clas.score(X_train, y_train)"
   ]
  },
  {
   "cell_type": "code",
   "execution_count": 39,
   "id": "9dc826f7",
   "metadata": {},
   "outputs": [
    {
     "data": {
      "text/plain": [
       "0.9385964912280702"
      ]
     },
     "execution_count": 39,
     "metadata": {},
     "output_type": "execute_result"
    }
   ],
   "source": [
    "#accuracy of test data\n",
    "clas.score(X_test, y_test) "
   ]
  },
  {
   "cell_type": "code",
   "execution_count": 40,
   "id": "af4830bd",
   "metadata": {},
   "outputs": [
    {
     "data": {
      "text/plain": [
       "array([0.14744196, 0.32969024, 0.20851441, 0.20851441, 0.25537696,\n",
       "       0.25819889, 0.2981424 , 0.21081851, 0.21081851, 0.21081851])"
      ]
     },
     "execution_count": 40,
     "metadata": {},
     "output_type": "execute_result"
    }
   ],
   "source": [
    "# get kfold values\n",
    "Dta_scores = -1 * cross_val_score(clas, \n",
    "                                    X_train, \n",
    "                                    y_train, \n",
    "                                    cv=cv, \n",
    "                                    scoring='neg_root_mean_squared_error')\n",
    "Dta_scores\n",
    "\n"
   ]
  },
  {
   "cell_type": "code",
   "execution_count": 41,
   "id": "a191998f",
   "metadata": {},
   "outputs": [
    {
     "data": {
      "text/plain": [
       "0.2338334798975374"
      ]
     },
     "execution_count": 41,
     "metadata": {},
     "output_type": "execute_result"
    }
   ],
   "source": [
    "# mean of the train kfold scores\n",
    "Dta_score_train = np.mean(Dta_scores)\n",
    "Dta_score_train"
   ]
  },
  {
   "cell_type": "markdown",
   "id": "9d58db66",
   "metadata": {},
   "source": [
    "# PREDICT"
   ]
  },
  {
   "cell_type": "code",
   "execution_count": 42,
   "id": "e18e9fb8",
   "metadata": {},
   "outputs": [],
   "source": [
    "# predict the values on X_test_scaled dataset \n",
    "y_predicted = clas.predict(X_test)"
   ]
  },
  {
   "cell_type": "code",
   "execution_count": 43,
   "id": "55c7e029",
   "metadata": {},
   "outputs": [],
   "source": [
    "# Constructing the confusion matrix.\n",
    "from sklearn.metrics import confusion_matrix"
   ]
  },
  {
   "cell_type": "code",
   "execution_count": 44,
   "id": "84a4953f",
   "metadata": {},
   "outputs": [],
   "source": [
    "#confusion matrix btw y_test and y_predicted\n",
    "cm = confusion_matrix(y_test,y_predicted)"
   ]
  },
  {
   "cell_type": "code",
   "execution_count": 45,
   "id": "c9207d5d",
   "metadata": {},
   "outputs": [
    {
     "data": {
      "text/plain": [
       "Text(33.0, 0.5, 'True Class')"
      ]
     },
     "execution_count": 45,
     "metadata": {},
     "output_type": "execute_result"
    },
    {
     "data": {
      "image/png": "[encoded data removed]",
      "text/plain": [
       "<Figure size 432x288 with 1 Axes>"
      ]
     },
     "metadata": {
      "needs_background": "light"
     },
     "output_type": "display_data"
    }
   ],
   "source": [
    "#We are drawing cm on heatmap to have better understanding \n",
    "# sns.heatmap(cm,cmap = 'Red') ~ to check for available colors\n",
    "sns.heatmap(cm,cmap = 'icefire_r', annot = True, fmt= 'd', cbar=False, linecolor='Black', linewidth = 2)\n",
    "plt.title(\"Confusion matrix\")\n",
    "plt.xticks(np.arange(2)+.5,['Non-Maligant', 'Maligant'])\n",
    "plt.yticks(np.arange(2)+.5,['Non=Maligant', 'Maligant'])\n",
    "plt.xlabel('Predicted CLass')\n",
    "plt.ylabel('True Class')"
   ]
  },
  {
   "cell_type": "code",
   "execution_count": 46,
   "id": "0f1b0e1c",
   "metadata": {},
   "outputs": [
    {
     "data": {
      "text/plain": [
       "<AxesSubplot:>"
      ]
     },
     "execution_count": 46,
     "metadata": {},
     "output_type": "execute_result"
    },
    {
     "data": {
      "image/png": "[encoded data removed]",
      "text/plain": [
       "<Figure size 432x288 with 1 Axes>"
      ]
     },
     "metadata": {
      "needs_background": "light"
     },
     "output_type": "display_data"
    }
   ],
   "source": [
    "sns.heatmap(cm/np.sum(cm), annot=True, \n",
    "            fmt='.2%', cmap='Blues', cbar = False)\n"
   ]
  },
  {
   "cell_type": "markdown",
   "id": "d9c5198a",
   "metadata": {},
   "source": [
    "# Building all kinds of evaluating parameters"
   ]
  },
  {
   "cell_type": "code",
   "execution_count": 47,
   "id": "04b11989",
   "metadata": {},
   "outputs": [
    {
     "name": "stdout",
     "output_type": "stream",
     "text": [
      "The model used is Random Forest Classifier\n",
      "\n",
      "The accuracy is 0.9385964912280702\n",
      "The precision is 0.9285714285714286\n",
      "The recall is 0.9069767441860465\n",
      "The F1-Score is 0.9176470588235294\n"
     ]
    }
   ],
   "source": [
    "# Evaluating the classifier\n",
    "# printing every score of the classifier\n",
    "# scoring in anything\n",
    "from sklearn.metrics import classification_report \n",
    "from sklearn.metrics import f1_score, accuracy_score, precision_score,recall_score\n",
    "from sklearn.metrics import confusion_matrix\n",
    "  \n",
    "\n",
    "print(\"The model used is Random Forest Classifier\")\n",
    "  \n",
    "acc = accuracy_score(y_test, y_predicted)\n",
    "print(\"\\nThe accuracy is {}\".format(acc))\n",
    "  \n",
    "prec = precision_score(y_test, y_predicted)\n",
    "print(\"The precision is {}\".format(prec))\n",
    "  \n",
    "rec = recall_score(y_test, y_predicted)\n",
    "print(\"The recall is {}\".format(rec))\n",
    "  \n",
    "f1 = f1_score(y_test, y_predicted)\n",
    "print(\"The F1-Score is {}\".format(f1))\n",
    "  "
   ]
  },
  {
   "cell_type": "code",
   "execution_count": null,
   "id": "54de29df",
   "metadata": {},
   "outputs": [],
   "source": []
  },
  {
   "cell_type": "markdown",
   "id": "53f083a9",
   "metadata": {},
   "source": [
    "# Insight:\n",
    "- As you can see with our Random Forest Model(0.9298 or 92.98%) we are getting a better result even for the recall (0.9069 or 90.69%) which is the most tricky part.\n",
    "- So we gonna save our model with Random Forest Algorithm\n"
   ]
  },
  {
   "cell_type": "code",
   "execution_count": null,
   "id": "baa5e1fa",
   "metadata": {},
   "outputs": [],
   "source": []
  },
  {
   "cell_type": "code",
   "execution_count": null,
   "id": "a3892cbf",
   "metadata": {},
   "outputs": [],
   "source": []
  },
  {
   "cell_type": "markdown",
   "id": "614a541e",
   "metadata": {},
   "source": [
    "# Step 4: Save Model\n",
    "**Goal:- In this step we are going to save our model in pickel format file.**\n",
    "\n"
   ]
  },
  {
   "cell_type": "code",
   "execution_count": 48,
   "id": "4c5c47e5",
   "metadata": {},
   "outputs": [],
   "source": [
    "import pickle\n",
    "pickle.dump(clas , open('breast_cancer_prognosis.pkl', 'wb'))\n",
    "\n"
   ]
  },
  {
   "cell_type": "code",
   "execution_count": 49,
   "id": "7e84aa42",
   "metadata": {},
   "outputs": [],
   "source": [
    "import pickle\n",
    "\n",
    "def model_prediction(features):\n",
    "    \n",
    "    pickled_model = pickle.load(open('breast_cancer_prognosis.pkl', 'rb'))\n",
    "    Diagnosis = str(list(pickled_model.predict(features)))\n",
    "    \n",
    "    return str(f'The diagnosis is {Diagnosis}')"
   ]
  },
  {
   "cell_type": "markdown",
   "id": "2e16ffbe",
   "metadata": {},
   "source": [
    "Features or X test"
   ]
  },
  {
   "cell_type": "code",
   "execution_count": 50,
   "id": "b3f3fff1",
   "metadata": {},
   "outputs": [],
   "source": [
    "radius_mean = 20.57\n",
    "texture_mean = 17.77\n",
    "smoothness_mean = 0.08474\n",
    "compactness_mean = 0.07864\n",
    "symmetry_mean = 0.1812\n",
    "fractal_dimension_mean = 0.05667\n",
    "radius_se = 0.5435\n",
    "texture_se =  0.7339\n",
    "smoothness_se = 0.005225\n",
    "compactness_se = 0.01308\n",
    "concavepoints_se = 0.0134\n",
    "symmetry_se = 0.01389\n",
    "symmetry_worst = 0.275\n",
    "\n"
   ]
  },
  {
   "cell_type": "code",
   "execution_count": 51,
   "id": "1ab2ef6e",
   "metadata": {},
   "outputs": [
    {
     "data": {
      "text/plain": [
       "'The diagnosis is [1]'"
      ]
     },
     "execution_count": 51,
     "metadata": {},
     "output_type": "execute_result"
    }
   ],
   "source": [
    "model_prediction([[radius_mean, texture_mean, smoothness_mean, compactness_mean, symmetry_mean, fractal_dimension_mean, radius_se, texture_se, smoothness_se, compactness_se, concavepoints_se, symmetry_se, symmetry_worst]])"
   ]
  },
  {
   "cell_type": "markdown",
   "id": "3c8a9d63",
   "metadata": {},
   "source": [
    "1 ~ M = malignant, 0 ~ B = benign"
   ]
  },
  {
   "cell_type": "markdown",
   "id": "4ff93237",
   "metadata": {},
   "source": [
    "# Insights/Results/Summary:-\n",
    "In this step we save our model in pickel file format so we can use it now anywhere for prediction purpose\n",
    "\n",
    "\n"
   ]
  },
  {
   "cell_type": "code",
   "execution_count": null,
   "id": "c6659f92",
   "metadata": {},
   "outputs": [],
   "source": []
  }
 ],
 "metadata": {
  "kernelspec": {
   "display_name": "Python 3 (ipykernel)",
   "language": "python",
   "name": "python3"
  },
  "language_info": {
   "codemirror_mode": {
    "name": "ipython",
    "version": 3
   },
   "file_extension": ".py",
   "mimetype": "text/x-python",
   "name": "python",
   "nbconvert_exporter": "python",
   "pygments_lexer": "ipython3",
   "version": "3.9.12"
  }
 },
 "nbformat": 4,
 "nbformat_minor": 5
}
