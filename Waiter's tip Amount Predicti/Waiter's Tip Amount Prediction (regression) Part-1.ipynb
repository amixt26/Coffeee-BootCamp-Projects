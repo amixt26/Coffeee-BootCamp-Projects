{
 "cells": [
  {
   "cell_type": "markdown",
   "id": "66d2312e",
   "metadata": {},
   "source": [
    "# Build a model to predict the tip amount of waiter."
   ]
  },
  {
   "cell_type": "markdown",
   "id": "ccd00695",
   "metadata": {},
   "source": [
    "# Problem Statement:\n",
    "One waiter recorded information about each tip he received over a period of a few months working in one restaurant. In all he recorded 244 tips.\n",
    "\n",
    "*The Goal of this challenge is to build a prediction model that predicts the amout of tip waiter will get at the end of day.*"
   ]
  },
  {
   "cell_type": "markdown",
   "id": "72295c1c",
   "metadata": {},
   "source": [
    "# Dataset:\n",
    "The data was reported in a collection of case studies for business statistics.\n",
    "\n",
    "Bryant, P. G. and Smith, M (1995) Practical Data Analysis: Case Studies in Business Statistics. Homewood, IL: Richard D. Irwin Publishing\n",
    "\n",
    "The dataset is also available through the Python package Seaborn."
   ]
  },
  {
   "cell_type": "markdown",
   "id": "d58a2909",
   "metadata": {},
   "source": [
    "# Step 1: Import all the required libraries\n",
    "- Pandas : In computer programming, pandas is a software library written for the Python programming language for data manipulation and analysis and storing in a proper way. In particular, it offers data structures and operations for manipulating numerical tables and time series\n",
    "- Sklearn : Scikit-learn (formerly scikits.learn) is a free software machine learning library for the Python programming language. It features various classification, regression and clustering algorithms including support vector machines, random forests, gradient boosting, k-means and DBSCAN, and is designed to interoperate with the Python numerical and scientific libraries NumPy and SciPy. The library is built upon the SciPy (Scientific Python) that must be installed before you can use scikit-learn.\n",
    "- Pickle : Python pickle module is used for serializing and de-serializing a Python object structure. Pickling is a way to convert a python object (list, dict, etc.) into a character stream. The idea is that this character stream contains all the information necessary to reconstruct the object in another python script.\n",
    "- Seaborn : Seaborn is a Python data visualization library based on matplotlib. It provides a high-level interface for drawing attractive and informative statistical graphics."
   ]
  },
  {
   "cell_type": "code",
   "execution_count": 1,
   "id": "e6f53fcf",
   "metadata": {},
   "outputs": [],
   "source": [
    "#Loading libraries \n",
    "import pandas as pd\n",
    "import seaborn as sns\n",
    "from sklearn.model_selection import train_test_split\n",
    "from sklearn import preprocessing\n",
    "import sklearn.linear_model \n",
    "import sklearn\n",
    "import pickle\n",
    "import numpy as np\n",
    "import matplotlib.pyplot as plt\n",
    "from sklearn.preprocessing import OneHotEncoder\n",
    "import warnings\n",
    "\n",
    "warnings.filterwarnings('ignore')"
   ]
  },
  {
   "cell_type": "markdown",
   "id": "05bb8fcb",
   "metadata": {},
   "source": [
    "# Step 2 : Read dataset and basic details of dataset\n",
    "Goal:- In this step we are going to read the dataset, view the dataset and analysis the basic details like total number of rows and columns, what are the column data types and see to need to create new column or not.\n",
    "\n",
    "*In this stage we are going to read our problem dataset and have a look on it.*"
   ]
  },
  {
   "cell_type": "code",
   "execution_count": 2,
   "id": "c16b2997",
   "metadata": {},
   "outputs": [
    {
     "name": "stdout",
     "output_type": "stream",
     "text": [
      "Data read done successfully...\n"
     ]
    }
   ],
   "source": [
    "#loading training data\n",
    "try:\n",
    "    df = pd.read_csv('/Users/amitpandey/TIPS.csv')\n",
    "    print('Data read done successfully...')\n",
    "except (FileNotFoundError, IOError):\n",
    "    print(\"Wrong file or file path\")   \n",
    "\n"
   ]
  },
  {
   "cell_type": "code",
   "execution_count": 3,
   "id": "df01636a",
   "metadata": {},
   "outputs": [
    {
     "data": {
      "text/html": [
       "<div>\n",
       "<style scoped>\n",
       "    .dataframe tbody tr th:only-of-type {\n",
       "        vertical-align: middle;\n",
       "    }\n",
       "\n",
       "    .dataframe tbody tr th {\n",
       "        vertical-align: top;\n",
       "    }\n",
       "\n",
       "    .dataframe thead th {\n",
       "        text-align: right;\n",
       "    }\n",
       "</style>\n",
       "<table border=\"1\" class=\"dataframe\">\n",
       "  <thead>\n",
       "    <tr style=\"text-align: right;\">\n",
       "      <th></th>\n",
       "      <th>total_bill</th>\n",
       "      <th>tip</th>\n",
       "      <th>sex</th>\n",
       "      <th>smoker</th>\n",
       "      <th>day</th>\n",
       "      <th>time</th>\n",
       "      <th>size</th>\n",
       "    </tr>\n",
       "  </thead>\n",
       "  <tbody>\n",
       "    <tr>\n",
       "      <th>0</th>\n",
       "      <td>16.99</td>\n",
       "      <td>1.01</td>\n",
       "      <td>Female</td>\n",
       "      <td>No</td>\n",
       "      <td>Sun</td>\n",
       "      <td>Dinner</td>\n",
       "      <td>2</td>\n",
       "    </tr>\n",
       "    <tr>\n",
       "      <th>1</th>\n",
       "      <td>10.34</td>\n",
       "      <td>1.66</td>\n",
       "      <td>Male</td>\n",
       "      <td>No</td>\n",
       "      <td>Sun</td>\n",
       "      <td>Dinner</td>\n",
       "      <td>3</td>\n",
       "    </tr>\n",
       "    <tr>\n",
       "      <th>2</th>\n",
       "      <td>21.01</td>\n",
       "      <td>3.50</td>\n",
       "      <td>Male</td>\n",
       "      <td>No</td>\n",
       "      <td>Sun</td>\n",
       "      <td>Dinner</td>\n",
       "      <td>3</td>\n",
       "    </tr>\n",
       "    <tr>\n",
       "      <th>3</th>\n",
       "      <td>23.68</td>\n",
       "      <td>3.31</td>\n",
       "      <td>Male</td>\n",
       "      <td>No</td>\n",
       "      <td>Sun</td>\n",
       "      <td>Dinner</td>\n",
       "      <td>2</td>\n",
       "    </tr>\n",
       "    <tr>\n",
       "      <th>4</th>\n",
       "      <td>24.59</td>\n",
       "      <td>3.61</td>\n",
       "      <td>Female</td>\n",
       "      <td>No</td>\n",
       "      <td>Sun</td>\n",
       "      <td>Dinner</td>\n",
       "      <td>4</td>\n",
       "    </tr>\n",
       "  </tbody>\n",
       "</table>\n",
       "</div>"
      ],
      "text/plain": [
       "   total_bill   tip     sex smoker  day    time  size\n",
       "0       16.99  1.01  Female     No  Sun  Dinner     2\n",
       "1       10.34  1.66    Male     No  Sun  Dinner     3\n",
       "2       21.01  3.50    Male     No  Sun  Dinner     3\n",
       "3       23.68  3.31    Male     No  Sun  Dinner     2\n",
       "4       24.59  3.61  Female     No  Sun  Dinner     4"
      ]
     },
     "execution_count": 3,
     "metadata": {},
     "output_type": "execute_result"
    }
   ],
   "source": [
    "df.head()\n",
    "#by this we get the first 5 cols"
   ]
  },
  {
   "cell_type": "markdown",
   "id": "f8466691",
   "metadata": {},
   "source": [
    "# Data Preprocesssing"
   ]
  },
  {
   "cell_type": "code",
   "execution_count": 4,
   "id": "fb353fb2",
   "metadata": {},
   "outputs": [],
   "source": [
    "target = df['tip']   # -> dependent\n",
    "features = df.drop('tip', axis = 1) # -> independent\n",
    "#simply showing which is dependent and independent variable"
   ]
  },
  {
   "cell_type": "code",
   "execution_count": 5,
   "id": "534b97a6",
   "metadata": {},
   "outputs": [
    {
     "data": {
      "text/plain": [
       "(0      1.01\n",
       " 1      1.66\n",
       " 2      3.50\n",
       " 3      3.31\n",
       " 4      3.61\n",
       "        ... \n",
       " 239    5.92\n",
       " 240    2.00\n",
       " 241    2.00\n",
       " 242    1.75\n",
       " 243    3.00\n",
       " Name: tip, Length: 244, dtype: float64,\n",
       "      total_bill     sex smoker   day    time  size\n",
       " 0         16.99  Female     No   Sun  Dinner     2\n",
       " 1         10.34    Male     No   Sun  Dinner     3\n",
       " 2         21.01    Male     No   Sun  Dinner     3\n",
       " 3         23.68    Male     No   Sun  Dinner     2\n",
       " 4         24.59  Female     No   Sun  Dinner     4\n",
       " ..          ...     ...    ...   ...     ...   ...\n",
       " 239       29.03    Male     No   Sat  Dinner     3\n",
       " 240       27.18  Female    Yes   Sat  Dinner     2\n",
       " 241       22.67    Male    Yes   Sat  Dinner     2\n",
       " 242       17.82    Male     No   Sat  Dinner     2\n",
       " 243       18.78  Female     No  Thur  Dinner     2\n",
       " \n",
       " [244 rows x 6 columns])"
      ]
     },
     "execution_count": 5,
     "metadata": {},
     "output_type": "execute_result"
    }
   ],
   "source": [
    "#showing target column, feature columns\n",
    "target,features"
   ]
  },
  {
   "cell_type": "code",
   "execution_count": 6,
   "id": "d5dece30",
   "metadata": {},
   "outputs": [
    {
     "name": "stdout",
     "output_type": "stream",
     "text": [
      "<class 'pandas.core.frame.DataFrame'>\n",
      "RangeIndex: 244 entries, 0 to 243\n",
      "Data columns (total 7 columns):\n",
      " #   Column      Non-Null Count  Dtype  \n",
      "---  ------      --------------  -----  \n",
      " 0   total_bill  244 non-null    float64\n",
      " 1   tip         244 non-null    float64\n",
      " 2   sex         244 non-null    object \n",
      " 3   smoker      244 non-null    object \n",
      " 4   day         244 non-null    object \n",
      " 5   time        244 non-null    object \n",
      " 6   size        244 non-null    int64  \n",
      "dtypes: float64(2), int64(1), object(4)\n",
      "memory usage: 13.5+ KB\n"
     ]
    }
   ],
   "source": [
    "df.info()\n",
    "#checking for categorical cols AND numerical cols\n",
    "# categorical -> sex, smoker, day, time"
   ]
  },
  {
   "cell_type": "markdown",
   "id": "7e5f8f4f",
   "metadata": {},
   "source": [
    "**With the info function will get to know that we have zero non null values to whole dataset and we have total 3 types of data types in dataset which is, numerical, object and datetime**"
   ]
  },
  {
   "cell_type": "code",
   "execution_count": 7,
   "id": "38e0f480",
   "metadata": {},
   "outputs": [],
   "source": [
    "objects_cols = ['object']\n",
    "objects_lst = list(df.select_dtypes(include=objects_cols).columns)\n",
    "\n"
   ]
  },
  {
   "cell_type": "code",
   "execution_count": 8,
   "id": "9028f54c",
   "metadata": {},
   "outputs": [
    {
     "name": "stdout",
     "output_type": "stream",
     "text": [
      "total number of cateogrical columns are  4\n",
      "there names are as follows:  ['sex', 'smoker', 'day', 'time']\n"
     ]
    }
   ],
   "source": [
    "print(\"total number of cateogrical columns are \", len(objects_lst))\n",
    "print(\"there names are as follows: \", objects_lst)"
   ]
  },
  {
   "cell_type": "code",
   "execution_count": 9,
   "id": "30a45c05",
   "metadata": {},
   "outputs": [],
   "source": [
    "int64_cols = ['int64']\n",
    "int64_lst = list(df.select_dtypes(include=int64_cols).columns)"
   ]
  },
  {
   "cell_type": "code",
   "execution_count": 10,
   "id": "8fc7e9f2",
   "metadata": {},
   "outputs": [
    {
     "name": "stdout",
     "output_type": "stream",
     "text": [
      "total number of numerical columns are  1\n",
      "there names are as follows:  ['size']\n"
     ]
    }
   ],
   "source": [
    "print(\"total number of numerical columns are \", len(int64_lst))\n",
    "print(\"there names are as follows: \", int64_lst)"
   ]
  },
  {
   "cell_type": "code",
   "execution_count": 11,
   "id": "9db6108d",
   "metadata": {},
   "outputs": [],
   "source": [
    "float64_cols = ['float64']\n",
    "float64_lst = list(df.select_dtypes(include=float64_cols).columns)"
   ]
  },
  {
   "cell_type": "code",
   "execution_count": 12,
   "id": "28c7f204",
   "metadata": {},
   "outputs": [
    {
     "name": "stdout",
     "output_type": "stream",
     "text": [
      "total number of float64 columns are  2\n",
      "there name are as follow:  ['total_bill', 'tip']\n"
     ]
    }
   ],
   "source": [
    "print(\"total number of float64 columns are \", len(float64_lst))\n",
    "print(\"there name are as follow: \", float64_lst)"
   ]
  },
  {
   "cell_type": "code",
   "execution_count": 13,
   "id": "ef781684",
   "metadata": {},
   "outputs": [
    {
     "name": "stdout",
     "output_type": "stream",
     "text": [
      "The new dataset has 244 rows and 7 columns\n"
     ]
    }
   ],
   "source": [
    "#count the total number of rows and columns.\n",
    "print ('The new dataset has {0} rows and {1} columns'.format(df.shape[0],df.shape[1]))"
   ]
  },
  {
   "cell_type": "markdown",
   "id": "45ebb9bc",
   "metadata": {},
   "source": [
    "# Step 3: Descriptive Analysis\n",
    "**Goal/Purpose: find the data distribution of the features. Visualization, it helps to understand data and also to explain the data to another person**\n"
   ]
  },
  {
   "cell_type": "markdown",
   "id": "0a8bcd25",
   "metadata": {},
   "source": [
    "# Things we are going to do in this step:\n",
    "1. Mean\n",
    "2. Median\n",
    "3. Mode\n",
    "4. Standard Deviation\n",
    "5. Variance\n",
    "6. Null Values\n",
    "7. NaN Values\n",
    "8. Min value\n",
    "9. Max value\n",
    "10. Count Value\n",
    "11. Quatilers\n",
    "12. Correlation\n",
    "13. Skewness"
   ]
  },
  {
   "cell_type": "code",
   "execution_count": 14,
   "id": "d6456d48",
   "metadata": {},
   "outputs": [
    {
     "data": {
      "text/html": [
       "<div>\n",
       "<style scoped>\n",
       "    .dataframe tbody tr th:only-of-type {\n",
       "        vertical-align: middle;\n",
       "    }\n",
       "\n",
       "    .dataframe tbody tr th {\n",
       "        vertical-align: top;\n",
       "    }\n",
       "\n",
       "    .dataframe thead th {\n",
       "        text-align: right;\n",
       "    }\n",
       "</style>\n",
       "<table border=\"1\" class=\"dataframe\">\n",
       "  <thead>\n",
       "    <tr style=\"text-align: right;\">\n",
       "      <th></th>\n",
       "      <th>total_bill</th>\n",
       "      <th>tip</th>\n",
       "      <th>sex</th>\n",
       "      <th>smoker</th>\n",
       "      <th>day</th>\n",
       "      <th>time</th>\n",
       "      <th>size</th>\n",
       "    </tr>\n",
       "  </thead>\n",
       "  <tbody>\n",
       "    <tr>\n",
       "      <th>count</th>\n",
       "      <td>244.000000</td>\n",
       "      <td>244.000000</td>\n",
       "      <td>244</td>\n",
       "      <td>244</td>\n",
       "      <td>244</td>\n",
       "      <td>244</td>\n",
       "      <td>244.000000</td>\n",
       "    </tr>\n",
       "    <tr>\n",
       "      <th>unique</th>\n",
       "      <td>NaN</td>\n",
       "      <td>NaN</td>\n",
       "      <td>2</td>\n",
       "      <td>2</td>\n",
       "      <td>4</td>\n",
       "      <td>2</td>\n",
       "      <td>NaN</td>\n",
       "    </tr>\n",
       "    <tr>\n",
       "      <th>top</th>\n",
       "      <td>NaN</td>\n",
       "      <td>NaN</td>\n",
       "      <td>Male</td>\n",
       "      <td>No</td>\n",
       "      <td>Sat</td>\n",
       "      <td>Dinner</td>\n",
       "      <td>NaN</td>\n",
       "    </tr>\n",
       "    <tr>\n",
       "      <th>freq</th>\n",
       "      <td>NaN</td>\n",
       "      <td>NaN</td>\n",
       "      <td>157</td>\n",
       "      <td>151</td>\n",
       "      <td>87</td>\n",
       "      <td>176</td>\n",
       "      <td>NaN</td>\n",
       "    </tr>\n",
       "    <tr>\n",
       "      <th>mean</th>\n",
       "      <td>19.785943</td>\n",
       "      <td>2.998279</td>\n",
       "      <td>NaN</td>\n",
       "      <td>NaN</td>\n",
       "      <td>NaN</td>\n",
       "      <td>NaN</td>\n",
       "      <td>2.569672</td>\n",
       "    </tr>\n",
       "    <tr>\n",
       "      <th>std</th>\n",
       "      <td>8.902412</td>\n",
       "      <td>1.383638</td>\n",
       "      <td>NaN</td>\n",
       "      <td>NaN</td>\n",
       "      <td>NaN</td>\n",
       "      <td>NaN</td>\n",
       "      <td>0.951100</td>\n",
       "    </tr>\n",
       "    <tr>\n",
       "      <th>min</th>\n",
       "      <td>3.070000</td>\n",
       "      <td>1.000000</td>\n",
       "      <td>NaN</td>\n",
       "      <td>NaN</td>\n",
       "      <td>NaN</td>\n",
       "      <td>NaN</td>\n",
       "      <td>1.000000</td>\n",
       "    </tr>\n",
       "    <tr>\n",
       "      <th>25%</th>\n",
       "      <td>13.347500</td>\n",
       "      <td>2.000000</td>\n",
       "      <td>NaN</td>\n",
       "      <td>NaN</td>\n",
       "      <td>NaN</td>\n",
       "      <td>NaN</td>\n",
       "      <td>2.000000</td>\n",
       "    </tr>\n",
       "    <tr>\n",
       "      <th>50%</th>\n",
       "      <td>17.795000</td>\n",
       "      <td>2.900000</td>\n",
       "      <td>NaN</td>\n",
       "      <td>NaN</td>\n",
       "      <td>NaN</td>\n",
       "      <td>NaN</td>\n",
       "      <td>2.000000</td>\n",
       "    </tr>\n",
       "    <tr>\n",
       "      <th>75%</th>\n",
       "      <td>24.127500</td>\n",
       "      <td>3.562500</td>\n",
       "      <td>NaN</td>\n",
       "      <td>NaN</td>\n",
       "      <td>NaN</td>\n",
       "      <td>NaN</td>\n",
       "      <td>3.000000</td>\n",
       "    </tr>\n",
       "    <tr>\n",
       "      <th>max</th>\n",
       "      <td>50.810000</td>\n",
       "      <td>10.000000</td>\n",
       "      <td>NaN</td>\n",
       "      <td>NaN</td>\n",
       "      <td>NaN</td>\n",
       "      <td>NaN</td>\n",
       "      <td>6.000000</td>\n",
       "    </tr>\n",
       "  </tbody>\n",
       "</table>\n",
       "</div>"
      ],
      "text/plain": [
       "        total_bill         tip   sex smoker  day    time        size\n",
       "count   244.000000  244.000000   244    244  244     244  244.000000\n",
       "unique         NaN         NaN     2      2    4       2         NaN\n",
       "top            NaN         NaN  Male     No  Sat  Dinner         NaN\n",
       "freq           NaN         NaN   157    151   87     176         NaN\n",
       "mean     19.785943    2.998279   NaN    NaN  NaN     NaN    2.569672\n",
       "std       8.902412    1.383638   NaN    NaN  NaN     NaN    0.951100\n",
       "min       3.070000    1.000000   NaN    NaN  NaN     NaN    1.000000\n",
       "25%      13.347500    2.000000   NaN    NaN  NaN     NaN    2.000000\n",
       "50%      17.795000    2.900000   NaN    NaN  NaN     NaN    2.000000\n",
       "75%      24.127500    3.562500   NaN    NaN  NaN     NaN    3.000000\n",
       "max      50.810000   10.000000   NaN    NaN  NaN     NaN    6.000000"
      ]
     },
     "execution_count": 14,
     "metadata": {},
     "output_type": "execute_result"
    }
   ],
   "source": [
    "df.describe(include = 'all')"
   ]
  },
  {
   "cell_type": "markdown",
   "id": "efffc007",
   "metadata": {},
   "source": [
    "# Measure the variability of data of the dataset\n",
    "Variability describes how far apart data points lie from each other and from the center of a distribution."
   ]
  },
  {
   "cell_type": "markdown",
   "id": "919954ff",
   "metadata": {},
   "source": [
    "# 1. Standard Deviation\n",
    "The standard deviation is the average amount of variability in your dataset.\n",
    "\n",
    "*It tells you, on average, how far each data point lies from the mean. The larger the standard deviation, the more variable the data set is and if zero variance then there is no variability in the dataset that means there no use of that dataset.*"
   ]
  },
  {
   "cell_type": "code",
   "execution_count": 15,
   "id": "d5b3a3a8",
   "metadata": {},
   "outputs": [
    {
     "data": {
      "text/plain": [
       "total_bill    8.902412\n",
       "tip           1.383638\n",
       "size          0.951100\n",
       "dtype: float64"
      ]
     },
     "execution_count": 15,
     "metadata": {},
     "output_type": "execute_result"
    }
   ],
   "source": [
    "df.std()"
   ]
  },
  {
   "cell_type": "markdown",
   "id": "bfd9730d",
   "metadata": {},
   "source": [
    "# 2. Variance\n",
    "The variance is the average of squared deviations from the mean. A deviation from the mean is how far a score lies from the mean.\n",
    "\n",
    "*Variance is the square of the standard deviation. This means that the units of variance are much larger than those of a typical value of a data set.*"
   ]
  },
  {
   "cell_type": "code",
   "execution_count": 16,
   "id": "b2aba2e5",
   "metadata": {},
   "outputs": [
    {
     "data": {
      "text/plain": [
       "total_bill    79.252939\n",
       "tip            1.914455\n",
       "size           0.904591\n",
       "dtype: float64"
      ]
     },
     "execution_count": 16,
     "metadata": {},
     "output_type": "execute_result"
    }
   ],
   "source": [
    "df.var()"
   ]
  },
  {
   "cell_type": "markdown",
   "id": "4b6b3f05",
   "metadata": {},
   "source": [
    "# Measure central tendency\n",
    "A measure of central tendency is a single value that attempts to describe a set of data by identifying the central position within that set of data. As such, measures of central tendency are sometimes called measures of central location. They are also classed as summary statistics.\n"
   ]
  },
  {
   "cell_type": "markdown",
   "id": "c62f0872",
   "metadata": {},
   "source": [
    "# 1. Mean\n",
    "The mean is the arithmetic average, and it is probably the measure of central tendency that you are most familiar."
   ]
  },
  {
   "cell_type": "code",
   "execution_count": 17,
   "id": "f225a06a",
   "metadata": {},
   "outputs": [
    {
     "data": {
      "text/plain": [
       "total_bill    19.785943\n",
       "tip            2.998279\n",
       "size           2.569672\n",
       "dtype: float64"
      ]
     },
     "execution_count": 17,
     "metadata": {},
     "output_type": "execute_result"
    }
   ],
   "source": [
    "df.mean()"
   ]
  },
  {
   "cell_type": "markdown",
   "id": "4708eb68",
   "metadata": {},
   "source": [
    "# 2. Median\n",
    "\n",
    "The median is the middle value. It is the value that splits the dataset in half."
   ]
  },
  {
   "cell_type": "code",
   "execution_count": 18,
   "id": "4552e6dd",
   "metadata": {},
   "outputs": [
    {
     "data": {
      "text/plain": [
       "total_bill    17.795\n",
       "tip            2.900\n",
       "size           2.000\n",
       "dtype: float64"
      ]
     },
     "execution_count": 18,
     "metadata": {},
     "output_type": "execute_result"
    }
   ],
   "source": [
    "df.median()"
   ]
  },
  {
   "cell_type": "markdown",
   "id": "96a02390",
   "metadata": {},
   "source": [
    "# 3. Mode\n",
    "The mode is the value that occurs the most frequently in your data set. On a bar chart, the mode is the highest bar. If the data have multiple values that are tied for occurring the most frequently, you have a multimodal distribution. If no value repeats, the data do not have a mode."
   ]
  },
  {
   "cell_type": "code",
   "execution_count": 19,
   "id": "7f92cab0",
   "metadata": {},
   "outputs": [
    {
     "data": {
      "text/html": [
       "<div>\n",
       "<style scoped>\n",
       "    .dataframe tbody tr th:only-of-type {\n",
       "        vertical-align: middle;\n",
       "    }\n",
       "\n",
       "    .dataframe tbody tr th {\n",
       "        vertical-align: top;\n",
       "    }\n",
       "\n",
       "    .dataframe thead th {\n",
       "        text-align: right;\n",
       "    }\n",
       "</style>\n",
       "<table border=\"1\" class=\"dataframe\">\n",
       "  <thead>\n",
       "    <tr style=\"text-align: right;\">\n",
       "      <th></th>\n",
       "      <th>total_bill</th>\n",
       "      <th>tip</th>\n",
       "      <th>sex</th>\n",
       "      <th>smoker</th>\n",
       "      <th>day</th>\n",
       "      <th>time</th>\n",
       "      <th>size</th>\n",
       "    </tr>\n",
       "  </thead>\n",
       "  <tbody>\n",
       "    <tr>\n",
       "      <th>0</th>\n",
       "      <td>13.42</td>\n",
       "      <td>2.0</td>\n",
       "      <td>Male</td>\n",
       "      <td>No</td>\n",
       "      <td>Sat</td>\n",
       "      <td>Dinner</td>\n",
       "      <td>2</td>\n",
       "    </tr>\n",
       "  </tbody>\n",
       "</table>\n",
       "</div>"
      ],
      "text/plain": [
       "   total_bill  tip   sex smoker  day    time  size\n",
       "0       13.42  2.0  Male     No  Sat  Dinner     2"
      ]
     },
     "execution_count": 19,
     "metadata": {},
     "output_type": "execute_result"
    }
   ],
   "source": [
    "df.mode()"
   ]
  },
  {
   "cell_type": "markdown",
   "id": "4a49bafb",
   "metadata": {},
   "source": [
    "# NULL & NAN Values"
   ]
  },
  {
   "cell_type": "code",
   "execution_count": 20,
   "id": "e995dc26",
   "metadata": {},
   "outputs": [
    {
     "data": {
      "text/plain": [
       "total_bill    0\n",
       "tip           0\n",
       "sex           0\n",
       "smoker        0\n",
       "day           0\n",
       "time          0\n",
       "size          0\n",
       "dtype: int64"
      ]
     },
     "execution_count": 20,
     "metadata": {},
     "output_type": "execute_result"
    }
   ],
   "source": [
    "df.isnull().sum()"
   ]
  },
  {
   "cell_type": "markdown",
   "id": "3bb453cb",
   "metadata": {},
   "source": [
    "as u can see there is no NULL values in data set"
   ]
  },
  {
   "cell_type": "code",
   "execution_count": 21,
   "id": "b4a0fbf8",
   "metadata": {},
   "outputs": [
    {
     "data": {
      "text/plain": [
       "total_bill    0\n",
       "tip           0\n",
       "sex           0\n",
       "smoker        0\n",
       "day           0\n",
       "time          0\n",
       "size          0\n",
       "dtype: int64"
      ]
     },
     "execution_count": 21,
     "metadata": {},
     "output_type": "execute_result"
    }
   ],
   "source": [
    "df.isna().sum()"
   ]
  },
  {
   "cell_type": "markdown",
   "id": "dd287868",
   "metadata": {},
   "source": [
    "as u can see there is no NAN values in data set"
   ]
  },
  {
   "cell_type": "markdown",
   "id": "60ef7b29",
   "metadata": {},
   "source": [
    "# Count of unique occurences of every value in all categorical cols\n"
   ]
  },
  {
   "cell_type": "code",
   "execution_count": 22,
   "id": "3ed4c4a6",
   "metadata": {},
   "outputs": [],
   "source": [
    "cols = ['sex', 'smoker', 'day', 'time']"
   ]
  },
  {
   "cell_type": "code",
   "execution_count": 23,
   "id": "ef7ebbc2",
   "metadata": {},
   "outputs": [
    {
     "name": "stdout",
     "output_type": "stream",
     "text": [
      "sex : ['Female' 'Male']\n",
      "smoker : ['No' 'Yes']\n",
      "day : ['Sun' 'Sat' 'Thur' 'Fri']\n",
      "time : ['Dinner' 'Lunch']\n"
     ]
    }
   ],
   "source": [
    "for value in cols:\n",
    "    print(value, \":\" ,df[value].unique())"
   ]
  },
  {
   "cell_type": "markdown",
   "id": "8532febd",
   "metadata": {},
   "source": [
    "# Now, we gonna convert categoricals values into numbers"
   ]
  },
  {
   "cell_type": "code",
   "execution_count": 24,
   "id": "787d5c75",
   "metadata": {},
   "outputs": [],
   "source": [
    "#By using one_hot_encoding\n",
    "Sex = pd.get_dummies(df['sex'])"
   ]
  },
  {
   "cell_type": "code",
   "execution_count": 25,
   "id": "e438b3c8",
   "metadata": {},
   "outputs": [],
   "source": [
    "Smoker =  pd.get_dummies(df['smoker'])"
   ]
  },
  {
   "cell_type": "code",
   "execution_count": 26,
   "id": "5359ac8e",
   "metadata": {},
   "outputs": [],
   "source": [
    "Day =  pd.get_dummies(df['day'])"
   ]
  },
  {
   "cell_type": "code",
   "execution_count": 27,
   "id": "1d27c39b",
   "metadata": {},
   "outputs": [],
   "source": [
    "Time =  pd.get_dummies(df['time'])"
   ]
  },
  {
   "cell_type": "code",
   "execution_count": 28,
   "id": "76ff2ab5",
   "metadata": {},
   "outputs": [
    {
     "data": {
      "text/html": [
       "<div>\n",
       "<style scoped>\n",
       "    .dataframe tbody tr th:only-of-type {\n",
       "        vertical-align: middle;\n",
       "    }\n",
       "\n",
       "    .dataframe tbody tr th {\n",
       "        vertical-align: top;\n",
       "    }\n",
       "\n",
       "    .dataframe thead th {\n",
       "        text-align: right;\n",
       "    }\n",
       "</style>\n",
       "<table border=\"1\" class=\"dataframe\">\n",
       "  <thead>\n",
       "    <tr style=\"text-align: right;\">\n",
       "      <th></th>\n",
       "      <th>Female</th>\n",
       "      <th>Male</th>\n",
       "    </tr>\n",
       "  </thead>\n",
       "  <tbody>\n",
       "    <tr>\n",
       "      <th>0</th>\n",
       "      <td>1</td>\n",
       "      <td>0</td>\n",
       "    </tr>\n",
       "    <tr>\n",
       "      <th>1</th>\n",
       "      <td>0</td>\n",
       "      <td>1</td>\n",
       "    </tr>\n",
       "    <tr>\n",
       "      <th>2</th>\n",
       "      <td>0</td>\n",
       "      <td>1</td>\n",
       "    </tr>\n",
       "    <tr>\n",
       "      <th>3</th>\n",
       "      <td>0</td>\n",
       "      <td>1</td>\n",
       "    </tr>\n",
       "    <tr>\n",
       "      <th>4</th>\n",
       "      <td>1</td>\n",
       "      <td>0</td>\n",
       "    </tr>\n",
       "    <tr>\n",
       "      <th>...</th>\n",
       "      <td>...</td>\n",
       "      <td>...</td>\n",
       "    </tr>\n",
       "    <tr>\n",
       "      <th>239</th>\n",
       "      <td>0</td>\n",
       "      <td>1</td>\n",
       "    </tr>\n",
       "    <tr>\n",
       "      <th>240</th>\n",
       "      <td>1</td>\n",
       "      <td>0</td>\n",
       "    </tr>\n",
       "    <tr>\n",
       "      <th>241</th>\n",
       "      <td>0</td>\n",
       "      <td>1</td>\n",
       "    </tr>\n",
       "    <tr>\n",
       "      <th>242</th>\n",
       "      <td>0</td>\n",
       "      <td>1</td>\n",
       "    </tr>\n",
       "    <tr>\n",
       "      <th>243</th>\n",
       "      <td>1</td>\n",
       "      <td>0</td>\n",
       "    </tr>\n",
       "  </tbody>\n",
       "</table>\n",
       "<p>244 rows × 2 columns</p>\n",
       "</div>"
      ],
      "text/plain": [
       "     Female  Male\n",
       "0         1     0\n",
       "1         0     1\n",
       "2         0     1\n",
       "3         0     1\n",
       "4         1     0\n",
       "..      ...   ...\n",
       "239       0     1\n",
       "240       1     0\n",
       "241       0     1\n",
       "242       0     1\n",
       "243       1     0\n",
       "\n",
       "[244 rows x 2 columns]"
      ]
     },
     "execution_count": 28,
     "metadata": {},
     "output_type": "execute_result"
    }
   ],
   "source": [
    "#time to cross-verify if categorical values has changes into numbers\n",
    "Sex"
   ]
  },
  {
   "cell_type": "code",
   "execution_count": 29,
   "id": "cbf54870",
   "metadata": {},
   "outputs": [],
   "source": [
    "#after converting we need to concatenate new cols (numerical) into dataset\n",
    "\n",
    "final_df = pd.concat([df, Sex, Smoker, Day, Time], axis=0)\n",
    "\n",
    "final_df = final_df.drop(['sex', 'smoker', 'day', 'time'],axis = 1)\n"
   ]
  },
  {
   "cell_type": "code",
   "execution_count": 30,
   "id": "d0dcf9a5",
   "metadata": {},
   "outputs": [
    {
     "data": {
      "text/html": [
       "<div>\n",
       "<style scoped>\n",
       "    .dataframe tbody tr th:only-of-type {\n",
       "        vertical-align: middle;\n",
       "    }\n",
       "\n",
       "    .dataframe tbody tr th {\n",
       "        vertical-align: top;\n",
       "    }\n",
       "\n",
       "    .dataframe thead th {\n",
       "        text-align: right;\n",
       "    }\n",
       "</style>\n",
       "<table border=\"1\" class=\"dataframe\">\n",
       "  <thead>\n",
       "    <tr style=\"text-align: right;\">\n",
       "      <th></th>\n",
       "      <th>total_bill</th>\n",
       "      <th>tip</th>\n",
       "      <th>size</th>\n",
       "      <th>Female</th>\n",
       "      <th>Male</th>\n",
       "      <th>No</th>\n",
       "      <th>Yes</th>\n",
       "      <th>Fri</th>\n",
       "      <th>Sat</th>\n",
       "      <th>Sun</th>\n",
       "      <th>Thur</th>\n",
       "      <th>Dinner</th>\n",
       "      <th>Lunch</th>\n",
       "    </tr>\n",
       "  </thead>\n",
       "  <tbody>\n",
       "    <tr>\n",
       "      <th>0</th>\n",
       "      <td>16.99</td>\n",
       "      <td>1.01</td>\n",
       "      <td>2.0</td>\n",
       "      <td>NaN</td>\n",
       "      <td>NaN</td>\n",
       "      <td>NaN</td>\n",
       "      <td>NaN</td>\n",
       "      <td>NaN</td>\n",
       "      <td>NaN</td>\n",
       "      <td>NaN</td>\n",
       "      <td>NaN</td>\n",
       "      <td>NaN</td>\n",
       "      <td>NaN</td>\n",
       "    </tr>\n",
       "    <tr>\n",
       "      <th>1</th>\n",
       "      <td>10.34</td>\n",
       "      <td>1.66</td>\n",
       "      <td>3.0</td>\n",
       "      <td>NaN</td>\n",
       "      <td>NaN</td>\n",
       "      <td>NaN</td>\n",
       "      <td>NaN</td>\n",
       "      <td>NaN</td>\n",
       "      <td>NaN</td>\n",
       "      <td>NaN</td>\n",
       "      <td>NaN</td>\n",
       "      <td>NaN</td>\n",
       "      <td>NaN</td>\n",
       "    </tr>\n",
       "    <tr>\n",
       "      <th>2</th>\n",
       "      <td>21.01</td>\n",
       "      <td>3.50</td>\n",
       "      <td>3.0</td>\n",
       "      <td>NaN</td>\n",
       "      <td>NaN</td>\n",
       "      <td>NaN</td>\n",
       "      <td>NaN</td>\n",
       "      <td>NaN</td>\n",
       "      <td>NaN</td>\n",
       "      <td>NaN</td>\n",
       "      <td>NaN</td>\n",
       "      <td>NaN</td>\n",
       "      <td>NaN</td>\n",
       "    </tr>\n",
       "    <tr>\n",
       "      <th>3</th>\n",
       "      <td>23.68</td>\n",
       "      <td>3.31</td>\n",
       "      <td>2.0</td>\n",
       "      <td>NaN</td>\n",
       "      <td>NaN</td>\n",
       "      <td>NaN</td>\n",
       "      <td>NaN</td>\n",
       "      <td>NaN</td>\n",
       "      <td>NaN</td>\n",
       "      <td>NaN</td>\n",
       "      <td>NaN</td>\n",
       "      <td>NaN</td>\n",
       "      <td>NaN</td>\n",
       "    </tr>\n",
       "    <tr>\n",
       "      <th>4</th>\n",
       "      <td>24.59</td>\n",
       "      <td>3.61</td>\n",
       "      <td>4.0</td>\n",
       "      <td>NaN</td>\n",
       "      <td>NaN</td>\n",
       "      <td>NaN</td>\n",
       "      <td>NaN</td>\n",
       "      <td>NaN</td>\n",
       "      <td>NaN</td>\n",
       "      <td>NaN</td>\n",
       "      <td>NaN</td>\n",
       "      <td>NaN</td>\n",
       "      <td>NaN</td>\n",
       "    </tr>\n",
       "    <tr>\n",
       "      <th>...</th>\n",
       "      <td>...</td>\n",
       "      <td>...</td>\n",
       "      <td>...</td>\n",
       "      <td>...</td>\n",
       "      <td>...</td>\n",
       "      <td>...</td>\n",
       "      <td>...</td>\n",
       "      <td>...</td>\n",
       "      <td>...</td>\n",
       "      <td>...</td>\n",
       "      <td>...</td>\n",
       "      <td>...</td>\n",
       "      <td>...</td>\n",
       "    </tr>\n",
       "    <tr>\n",
       "      <th>239</th>\n",
       "      <td>NaN</td>\n",
       "      <td>NaN</td>\n",
       "      <td>NaN</td>\n",
       "      <td>NaN</td>\n",
       "      <td>NaN</td>\n",
       "      <td>NaN</td>\n",
       "      <td>NaN</td>\n",
       "      <td>NaN</td>\n",
       "      <td>NaN</td>\n",
       "      <td>NaN</td>\n",
       "      <td>NaN</td>\n",
       "      <td>1.0</td>\n",
       "      <td>0.0</td>\n",
       "    </tr>\n",
       "    <tr>\n",
       "      <th>240</th>\n",
       "      <td>NaN</td>\n",
       "      <td>NaN</td>\n",
       "      <td>NaN</td>\n",
       "      <td>NaN</td>\n",
       "      <td>NaN</td>\n",
       "      <td>NaN</td>\n",
       "      <td>NaN</td>\n",
       "      <td>NaN</td>\n",
       "      <td>NaN</td>\n",
       "      <td>NaN</td>\n",
       "      <td>NaN</td>\n",
       "      <td>1.0</td>\n",
       "      <td>0.0</td>\n",
       "    </tr>\n",
       "    <tr>\n",
       "      <th>241</th>\n",
       "      <td>NaN</td>\n",
       "      <td>NaN</td>\n",
       "      <td>NaN</td>\n",
       "      <td>NaN</td>\n",
       "      <td>NaN</td>\n",
       "      <td>NaN</td>\n",
       "      <td>NaN</td>\n",
       "      <td>NaN</td>\n",
       "      <td>NaN</td>\n",
       "      <td>NaN</td>\n",
       "      <td>NaN</td>\n",
       "      <td>1.0</td>\n",
       "      <td>0.0</td>\n",
       "    </tr>\n",
       "    <tr>\n",
       "      <th>242</th>\n",
       "      <td>NaN</td>\n",
       "      <td>NaN</td>\n",
       "      <td>NaN</td>\n",
       "      <td>NaN</td>\n",
       "      <td>NaN</td>\n",
       "      <td>NaN</td>\n",
       "      <td>NaN</td>\n",
       "      <td>NaN</td>\n",
       "      <td>NaN</td>\n",
       "      <td>NaN</td>\n",
       "      <td>NaN</td>\n",
       "      <td>1.0</td>\n",
       "      <td>0.0</td>\n",
       "    </tr>\n",
       "    <tr>\n",
       "      <th>243</th>\n",
       "      <td>NaN</td>\n",
       "      <td>NaN</td>\n",
       "      <td>NaN</td>\n",
       "      <td>NaN</td>\n",
       "      <td>NaN</td>\n",
       "      <td>NaN</td>\n",
       "      <td>NaN</td>\n",
       "      <td>NaN</td>\n",
       "      <td>NaN</td>\n",
       "      <td>NaN</td>\n",
       "      <td>NaN</td>\n",
       "      <td>1.0</td>\n",
       "      <td>0.0</td>\n",
       "    </tr>\n",
       "  </tbody>\n",
       "</table>\n",
       "<p>1220 rows × 13 columns</p>\n",
       "</div>"
      ],
      "text/plain": [
       "     total_bill   tip  size  Female  Male  No  Yes  Fri  Sat  Sun  Thur  \\\n",
       "0         16.99  1.01   2.0     NaN   NaN NaN  NaN  NaN  NaN  NaN   NaN   \n",
       "1         10.34  1.66   3.0     NaN   NaN NaN  NaN  NaN  NaN  NaN   NaN   \n",
       "2         21.01  3.50   3.0     NaN   NaN NaN  NaN  NaN  NaN  NaN   NaN   \n",
       "3         23.68  3.31   2.0     NaN   NaN NaN  NaN  NaN  NaN  NaN   NaN   \n",
       "4         24.59  3.61   4.0     NaN   NaN NaN  NaN  NaN  NaN  NaN   NaN   \n",
       "..          ...   ...   ...     ...   ...  ..  ...  ...  ...  ...   ...   \n",
       "239         NaN   NaN   NaN     NaN   NaN NaN  NaN  NaN  NaN  NaN   NaN   \n",
       "240         NaN   NaN   NaN     NaN   NaN NaN  NaN  NaN  NaN  NaN   NaN   \n",
       "241         NaN   NaN   NaN     NaN   NaN NaN  NaN  NaN  NaN  NaN   NaN   \n",
       "242         NaN   NaN   NaN     NaN   NaN NaN  NaN  NaN  NaN  NaN   NaN   \n",
       "243         NaN   NaN   NaN     NaN   NaN NaN  NaN  NaN  NaN  NaN   NaN   \n",
       "\n",
       "     Dinner  Lunch  \n",
       "0       NaN    NaN  \n",
       "1       NaN    NaN  \n",
       "2       NaN    NaN  \n",
       "3       NaN    NaN  \n",
       "4       NaN    NaN  \n",
       "..      ...    ...  \n",
       "239     1.0    0.0  \n",
       "240     1.0    0.0  \n",
       "241     1.0    0.0  \n",
       "242     1.0    0.0  \n",
       "243     1.0    0.0  \n",
       "\n",
       "[1220 rows x 13 columns]"
      ]
     },
     "execution_count": 30,
     "metadata": {},
     "output_type": "execute_result"
    }
   ],
   "source": [
    "#Calling the new dataframe\n",
    "final_df"
   ]
  },
  {
   "cell_type": "code",
   "execution_count": 31,
   "id": "bca6e15d",
   "metadata": {},
   "outputs": [
    {
     "name": "stdout",
     "output_type": "stream",
     "text": [
      "The new dataset has 1220 rows and 13 columns\n"
     ]
    }
   ],
   "source": [
    "print ('The new dataset has {0} rows and {1} columns'.format(final_df.shape[0],final_df.shape[1]))"
   ]
  },
  {
   "cell_type": "code",
   "execution_count": 32,
   "id": "3f6de31a",
   "metadata": {},
   "outputs": [],
   "source": [
    "#From above you can see there are nan values in datset which we need to fill up\n",
    "final_df = final_df.fillna(value=0)\n",
    "\n"
   ]
  },
  {
   "cell_type": "code",
   "execution_count": 33,
   "id": "d2e1c9b1",
   "metadata": {},
   "outputs": [
    {
     "data": {
      "text/plain": [
       "total_bill    0\n",
       "tip           0\n",
       "size          0\n",
       "Female        0\n",
       "Male          0\n",
       "No            0\n",
       "Yes           0\n",
       "Fri           0\n",
       "Sat           0\n",
       "Sun           0\n",
       "Thur          0\n",
       "Dinner        0\n",
       "Lunch         0\n",
       "dtype: int64"
      ]
     },
     "execution_count": 33,
     "metadata": {},
     "output_type": "execute_result"
    }
   ],
   "source": [
    "#checking for presense of any null value in dataset\n",
    "final_df.isnull().sum()"
   ]
  },
  {
   "cell_type": "code",
   "execution_count": 34,
   "id": "60453339",
   "metadata": {},
   "outputs": [
    {
     "data": {
      "text/html": [
       "<div>\n",
       "<style scoped>\n",
       "    .dataframe tbody tr th:only-of-type {\n",
       "        vertical-align: middle;\n",
       "    }\n",
       "\n",
       "    .dataframe tbody tr th {\n",
       "        vertical-align: top;\n",
       "    }\n",
       "\n",
       "    .dataframe thead th {\n",
       "        text-align: right;\n",
       "    }\n",
       "</style>\n",
       "<table border=\"1\" class=\"dataframe\">\n",
       "  <thead>\n",
       "    <tr style=\"text-align: right;\">\n",
       "      <th></th>\n",
       "      <th>total_bill</th>\n",
       "      <th>tip</th>\n",
       "      <th>size</th>\n",
       "      <th>Female</th>\n",
       "      <th>Male</th>\n",
       "      <th>No</th>\n",
       "      <th>Yes</th>\n",
       "      <th>Fri</th>\n",
       "      <th>Sat</th>\n",
       "      <th>Sun</th>\n",
       "      <th>Thur</th>\n",
       "      <th>Dinner</th>\n",
       "      <th>Lunch</th>\n",
       "    </tr>\n",
       "  </thead>\n",
       "  <tbody>\n",
       "    <tr>\n",
       "      <th>0</th>\n",
       "      <td>16.99</td>\n",
       "      <td>1.01</td>\n",
       "      <td>2.0</td>\n",
       "      <td>0.0</td>\n",
       "      <td>0.0</td>\n",
       "      <td>0.0</td>\n",
       "      <td>0.0</td>\n",
       "      <td>0.0</td>\n",
       "      <td>0.0</td>\n",
       "      <td>0.0</td>\n",
       "      <td>0.0</td>\n",
       "      <td>0.0</td>\n",
       "      <td>0.0</td>\n",
       "    </tr>\n",
       "    <tr>\n",
       "      <th>1</th>\n",
       "      <td>10.34</td>\n",
       "      <td>1.66</td>\n",
       "      <td>3.0</td>\n",
       "      <td>0.0</td>\n",
       "      <td>0.0</td>\n",
       "      <td>0.0</td>\n",
       "      <td>0.0</td>\n",
       "      <td>0.0</td>\n",
       "      <td>0.0</td>\n",
       "      <td>0.0</td>\n",
       "      <td>0.0</td>\n",
       "      <td>0.0</td>\n",
       "      <td>0.0</td>\n",
       "    </tr>\n",
       "    <tr>\n",
       "      <th>2</th>\n",
       "      <td>21.01</td>\n",
       "      <td>3.50</td>\n",
       "      <td>3.0</td>\n",
       "      <td>0.0</td>\n",
       "      <td>0.0</td>\n",
       "      <td>0.0</td>\n",
       "      <td>0.0</td>\n",
       "      <td>0.0</td>\n",
       "      <td>0.0</td>\n",
       "      <td>0.0</td>\n",
       "      <td>0.0</td>\n",
       "      <td>0.0</td>\n",
       "      <td>0.0</td>\n",
       "    </tr>\n",
       "    <tr>\n",
       "      <th>3</th>\n",
       "      <td>23.68</td>\n",
       "      <td>3.31</td>\n",
       "      <td>2.0</td>\n",
       "      <td>0.0</td>\n",
       "      <td>0.0</td>\n",
       "      <td>0.0</td>\n",
       "      <td>0.0</td>\n",
       "      <td>0.0</td>\n",
       "      <td>0.0</td>\n",
       "      <td>0.0</td>\n",
       "      <td>0.0</td>\n",
       "      <td>0.0</td>\n",
       "      <td>0.0</td>\n",
       "    </tr>\n",
       "    <tr>\n",
       "      <th>4</th>\n",
       "      <td>24.59</td>\n",
       "      <td>3.61</td>\n",
       "      <td>4.0</td>\n",
       "      <td>0.0</td>\n",
       "      <td>0.0</td>\n",
       "      <td>0.0</td>\n",
       "      <td>0.0</td>\n",
       "      <td>0.0</td>\n",
       "      <td>0.0</td>\n",
       "      <td>0.0</td>\n",
       "      <td>0.0</td>\n",
       "      <td>0.0</td>\n",
       "      <td>0.0</td>\n",
       "    </tr>\n",
       "    <tr>\n",
       "      <th>...</th>\n",
       "      <td>...</td>\n",
       "      <td>...</td>\n",
       "      <td>...</td>\n",
       "      <td>...</td>\n",
       "      <td>...</td>\n",
       "      <td>...</td>\n",
       "      <td>...</td>\n",
       "      <td>...</td>\n",
       "      <td>...</td>\n",
       "      <td>...</td>\n",
       "      <td>...</td>\n",
       "      <td>...</td>\n",
       "      <td>...</td>\n",
       "    </tr>\n",
       "    <tr>\n",
       "      <th>239</th>\n",
       "      <td>0.00</td>\n",
       "      <td>0.00</td>\n",
       "      <td>0.0</td>\n",
       "      <td>0.0</td>\n",
       "      <td>0.0</td>\n",
       "      <td>0.0</td>\n",
       "      <td>0.0</td>\n",
       "      <td>0.0</td>\n",
       "      <td>0.0</td>\n",
       "      <td>0.0</td>\n",
       "      <td>0.0</td>\n",
       "      <td>1.0</td>\n",
       "      <td>0.0</td>\n",
       "    </tr>\n",
       "    <tr>\n",
       "      <th>240</th>\n",
       "      <td>0.00</td>\n",
       "      <td>0.00</td>\n",
       "      <td>0.0</td>\n",
       "      <td>0.0</td>\n",
       "      <td>0.0</td>\n",
       "      <td>0.0</td>\n",
       "      <td>0.0</td>\n",
       "      <td>0.0</td>\n",
       "      <td>0.0</td>\n",
       "      <td>0.0</td>\n",
       "      <td>0.0</td>\n",
       "      <td>1.0</td>\n",
       "      <td>0.0</td>\n",
       "    </tr>\n",
       "    <tr>\n",
       "      <th>241</th>\n",
       "      <td>0.00</td>\n",
       "      <td>0.00</td>\n",
       "      <td>0.0</td>\n",
       "      <td>0.0</td>\n",
       "      <td>0.0</td>\n",
       "      <td>0.0</td>\n",
       "      <td>0.0</td>\n",
       "      <td>0.0</td>\n",
       "      <td>0.0</td>\n",
       "      <td>0.0</td>\n",
       "      <td>0.0</td>\n",
       "      <td>1.0</td>\n",
       "      <td>0.0</td>\n",
       "    </tr>\n",
       "    <tr>\n",
       "      <th>242</th>\n",
       "      <td>0.00</td>\n",
       "      <td>0.00</td>\n",
       "      <td>0.0</td>\n",
       "      <td>0.0</td>\n",
       "      <td>0.0</td>\n",
       "      <td>0.0</td>\n",
       "      <td>0.0</td>\n",
       "      <td>0.0</td>\n",
       "      <td>0.0</td>\n",
       "      <td>0.0</td>\n",
       "      <td>0.0</td>\n",
       "      <td>1.0</td>\n",
       "      <td>0.0</td>\n",
       "    </tr>\n",
       "    <tr>\n",
       "      <th>243</th>\n",
       "      <td>0.00</td>\n",
       "      <td>0.00</td>\n",
       "      <td>0.0</td>\n",
       "      <td>0.0</td>\n",
       "      <td>0.0</td>\n",
       "      <td>0.0</td>\n",
       "      <td>0.0</td>\n",
       "      <td>0.0</td>\n",
       "      <td>0.0</td>\n",
       "      <td>0.0</td>\n",
       "      <td>0.0</td>\n",
       "      <td>1.0</td>\n",
       "      <td>0.0</td>\n",
       "    </tr>\n",
       "  </tbody>\n",
       "</table>\n",
       "<p>1220 rows × 13 columns</p>\n",
       "</div>"
      ],
      "text/plain": [
       "     total_bill   tip  size  Female  Male   No  Yes  Fri  Sat  Sun  Thur  \\\n",
       "0         16.99  1.01   2.0     0.0   0.0  0.0  0.0  0.0  0.0  0.0   0.0   \n",
       "1         10.34  1.66   3.0     0.0   0.0  0.0  0.0  0.0  0.0  0.0   0.0   \n",
       "2         21.01  3.50   3.0     0.0   0.0  0.0  0.0  0.0  0.0  0.0   0.0   \n",
       "3         23.68  3.31   2.0     0.0   0.0  0.0  0.0  0.0  0.0  0.0   0.0   \n",
       "4         24.59  3.61   4.0     0.0   0.0  0.0  0.0  0.0  0.0  0.0   0.0   \n",
       "..          ...   ...   ...     ...   ...  ...  ...  ...  ...  ...   ...   \n",
       "239        0.00  0.00   0.0     0.0   0.0  0.0  0.0  0.0  0.0  0.0   0.0   \n",
       "240        0.00  0.00   0.0     0.0   0.0  0.0  0.0  0.0  0.0  0.0   0.0   \n",
       "241        0.00  0.00   0.0     0.0   0.0  0.0  0.0  0.0  0.0  0.0   0.0   \n",
       "242        0.00  0.00   0.0     0.0   0.0  0.0  0.0  0.0  0.0  0.0   0.0   \n",
       "243        0.00  0.00   0.0     0.0   0.0  0.0  0.0  0.0  0.0  0.0   0.0   \n",
       "\n",
       "     Dinner  Lunch  \n",
       "0       0.0    0.0  \n",
       "1       0.0    0.0  \n",
       "2       0.0    0.0  \n",
       "3       0.0    0.0  \n",
       "4       0.0    0.0  \n",
       "..      ...    ...  \n",
       "239     1.0    0.0  \n",
       "240     1.0    0.0  \n",
       "241     1.0    0.0  \n",
       "242     1.0    0.0  \n",
       "243     1.0    0.0  \n",
       "\n",
       "[1220 rows x 13 columns]"
      ]
     },
     "execution_count": 34,
     "metadata": {},
     "output_type": "execute_result"
    }
   ],
   "source": [
    "final_df"
   ]
  },
  {
   "cell_type": "markdown",
   "id": "976acdf8",
   "metadata": {},
   "source": [
    "# Skewness "
   ]
  },
  {
   "cell_type": "code",
   "execution_count": 35,
   "id": "518233ef",
   "metadata": {},
   "outputs": [
    {
     "data": {
      "text/plain": [
       "2.4874636677678414"
      ]
     },
     "execution_count": 35,
     "metadata": {},
     "output_type": "execute_result"
    }
   ],
   "source": [
    "final_df['tip'].skew()\n"
   ]
  },
  {
   "cell_type": "code",
   "execution_count": 36,
   "id": "f2f8b577",
   "metadata": {},
   "outputs": [],
   "source": [
    "#making a function to check skewness for all numerical cols\n",
    "def left_or_right_skew(df,col):\n",
    "    \n",
    "    rs=final_df[value].skew()\n",
    "    \n",
    "   \n",
    "    if rs > 0:\n",
    "        return \"positive (+ve) skewed\"\n",
    "    \n",
    "    elif rs == 0:\n",
    "        return \"normal skewed\"\n",
    "    \n",
    "    elif rs < 0:\n",
    "        return \"negative (-ve) skewed\"\n",
    "        "
   ]
  },
  {
   "cell_type": "code",
   "execution_count": 37,
   "id": "d5bb8122",
   "metadata": {},
   "outputs": [
    {
     "name": "stdout",
     "output_type": "stream",
     "text": [
      "total_bill ----> positive (+ve) skewed\n",
      "tip ----> positive (+ve) skewed\n",
      "size ----> positive (+ve) skewed\n"
     ]
    }
   ],
   "source": [
    "#only for numerical cols\n",
    "cols = [\n",
    "    'total_bill',\n",
    "    'tip',\n",
    "    'size'\n",
    "    \n",
    "]\n",
    "for value in cols:\n",
    "    \n",
    "    print(value, \"---->\", left_or_right_skew(final_df,value))"
   ]
  },
  {
   "cell_type": "markdown",
   "id": "2f2f063f",
   "metadata": {},
   "source": [
    "# Step 4: Data Exploration\n",
    "Goal/Purpose:-\n",
    "\n",
    "*Graphs we are going to develop in this step*\n",
    "\n",
    "1. Histogram of all columns to check the distrubution of the columns\n",
    "2. Distplot or distribution plot of all columns to check the variation in the data distribution\n",
    "3. Heatmap to calculate correlation within feature variables\n",
    "4. Scatter plot to fing the relationship of target variable with features\n",
    "4. Boxplot to find out outlier in the feature columns\n"
   ]
  },
  {
   "cell_type": "markdown",
   "id": "5ac1089a",
   "metadata": {},
   "source": [
    "# 1. Histogram "
   ]
  },
  {
   "cell_type": "code",
   "execution_count": 38,
   "id": "3a15dcd0",
   "metadata": {},
   "outputs": [
    {
     "data": {
      "image/png": "[encoded data removed]",
      "text/plain": [
       "<Figure size 2160x1440 with 16 Axes>"
      ]
     },
     "metadata": {
      "needs_background": "light"
     },
     "output_type": "display_data"
    }
   ],
   "source": [
    "# Distribution in attributes\n",
    "%matplotlib inline\n",
    "import matplotlib.pyplot as plt\n",
    "final_df.hist(bins=50, figsize=(30,20))\n",
    "plt.show()"
   ]
  },
  {
   "cell_type": "markdown",
   "id": "32b8a0ae",
   "metadata": {},
   "source": [
    "# 2. Distplot "
   ]
  },
  {
   "cell_type": "code",
   "execution_count": 39,
   "id": "b1adee7e",
   "metadata": {},
   "outputs": [
    {
     "data": {
      "text/plain": [
       "<seaborn.axisgrid.FacetGrid at 0x7f8ad9900f70>"
      ]
     },
     "execution_count": 39,
     "metadata": {},
     "output_type": "execute_result"
    },
    {
     "data": {
      "image/png": "[encoded data removed]",
      "text/plain": [
       "<Figure size 864x864 with 13 Axes>"
      ]
     },
     "metadata": {
      "needs_background": "light"
     },
     "output_type": "display_data"
    }
   ],
   "source": [
    "num = [f for f in final_df.columns if final_df.dtypes[f] != 'object']\n",
    "nd = pd.melt(final_df, value_vars = num)\n",
    "n1 = sns.FacetGrid (nd, col='variable', col_wrap=4, sharex=False, sharey = False)\n",
    "n1 = n1.map(sns.distplot, 'value')\n",
    "n1"
   ]
  },
  {
   "cell_type": "code",
   "execution_count": null,
   "id": "669fd414",
   "metadata": {},
   "outputs": [],
   "source": [
    "\n"
   ]
  },
  {
   "cell_type": "markdown",
   "id": "48a65753",
   "metadata": {},
   "source": [
    "# 3. HeatMap"
   ]
  },
  {
   "cell_type": "markdown",
   "id": "8e8c2ce5",
   "metadata": {},
   "source": [
    "Correlation within feature variables\n",
    "\n",
    "Correlation - A positive correlation is a relationship between two variables in which both variables move in the same direction. Therefore, when one variable increases as the other variable increases, or one variable decreases while the other decreases.\n",
    "\n"
   ]
  },
  {
   "cell_type": "markdown",
   "id": "ad1fbd37",
   "metadata": {},
   "source": [
    "Correlation can have a value:\n",
    "\n",
    "- 1 is a perfect positive correlation\n",
    "- 0 is no correlation (the values don't seem linked at all)\n",
    "- -1 is a perfect negative correlation"
   ]
  },
  {
   "cell_type": "code",
   "execution_count": 40,
   "id": "076b790a",
   "metadata": {},
   "outputs": [],
   "source": [
    "corr = final_df.corr()"
   ]
  },
  {
   "cell_type": "code",
   "execution_count": 41,
   "id": "fdd2ac6b",
   "metadata": {},
   "outputs": [
    {
     "data": {
      "text/plain": [
       "<AxesSubplot:>"
      ]
     },
     "execution_count": 41,
     "metadata": {},
     "output_type": "execute_result"
    },
    {
     "data": {
      "image/png": "[encoded data removed]",
      "text/plain": [
       "<Figure size 1152x576 with 2 Axes>"
      ]
     },
     "metadata": {},
     "output_type": "display_data"
    }
   ],
   "source": [
    "sns.set(rc = {'figure.figsize':(16,8)})\n",
    "sns.heatmap(corr, annot = True, fmt='.2g',cmap= 'coolwarm')"
   ]
  },
  {
   "cell_type": "code",
   "execution_count": 42,
   "id": "b88b523e",
   "metadata": {},
   "outputs": [
    {
     "data": {
      "text/html": [
       "<div>\n",
       "<style scoped>\n",
       "    .dataframe tbody tr th:only-of-type {\n",
       "        vertical-align: middle;\n",
       "    }\n",
       "\n",
       "    .dataframe tbody tr th {\n",
       "        vertical-align: top;\n",
       "    }\n",
       "\n",
       "    .dataframe thead th {\n",
       "        text-align: right;\n",
       "    }\n",
       "</style>\n",
       "<table border=\"1\" class=\"dataframe\">\n",
       "  <thead>\n",
       "    <tr style=\"text-align: right;\">\n",
       "      <th></th>\n",
       "      <th>total_bill</th>\n",
       "      <th>tip</th>\n",
       "      <th>size</th>\n",
       "      <th>Female</th>\n",
       "      <th>Male</th>\n",
       "      <th>No</th>\n",
       "      <th>Yes</th>\n",
       "      <th>Fri</th>\n",
       "      <th>Sat</th>\n",
       "      <th>Sun</th>\n",
       "      <th>Thur</th>\n",
       "      <th>Dinner</th>\n",
       "      <th>Lunch</th>\n",
       "    </tr>\n",
       "  </thead>\n",
       "  <tbody>\n",
       "    <tr>\n",
       "      <th>total_bill</th>\n",
       "      <td>1.000000</td>\n",
       "      <td>0.933350</td>\n",
       "      <td>0.928503</td>\n",
       "      <td>-0.123825</td>\n",
       "      <td>-0.171731</td>\n",
       "      <td>-0.167944</td>\n",
       "      <td>-0.128364</td>\n",
       "      <td>-0.056204</td>\n",
       "      <td>-0.123825</td>\n",
       "      <td>-0.115175</td>\n",
       "      <td>-0.103397</td>\n",
       "      <td>-0.183473</td>\n",
       "      <td>-0.108566</td>\n",
       "    </tr>\n",
       "    <tr>\n",
       "      <th>tip</th>\n",
       "      <td>0.933350</td>\n",
       "      <td>1.000000</td>\n",
       "      <td>0.907251</td>\n",
       "      <td>-0.123183</td>\n",
       "      <td>-0.170840</td>\n",
       "      <td>-0.167073</td>\n",
       "      <td>-0.127698</td>\n",
       "      <td>-0.055913</td>\n",
       "      <td>-0.123183</td>\n",
       "      <td>-0.114578</td>\n",
       "      <td>-0.102860</td>\n",
       "      <td>-0.182521</td>\n",
       "      <td>-0.108003</td>\n",
       "    </tr>\n",
       "    <tr>\n",
       "      <th>size</th>\n",
       "      <td>0.928503</td>\n",
       "      <td>0.907251</td>\n",
       "      <td>1.000000</td>\n",
       "      <td>-0.128062</td>\n",
       "      <td>-0.177607</td>\n",
       "      <td>-0.173691</td>\n",
       "      <td>-0.132757</td>\n",
       "      <td>-0.058128</td>\n",
       "      <td>-0.128062</td>\n",
       "      <td>-0.119116</td>\n",
       "      <td>-0.106935</td>\n",
       "      <td>-0.189751</td>\n",
       "      <td>-0.112281</td>\n",
       "    </tr>\n",
       "    <tr>\n",
       "      <th>Female</th>\n",
       "      <td>-0.123825</td>\n",
       "      <td>-0.123183</td>\n",
       "      <td>-0.128062</td>\n",
       "      <td>1.000000</td>\n",
       "      <td>-0.106495</td>\n",
       "      <td>-0.104146</td>\n",
       "      <td>-0.079602</td>\n",
       "      <td>-0.034854</td>\n",
       "      <td>-0.076787</td>\n",
       "      <td>-0.071423</td>\n",
       "      <td>-0.064119</td>\n",
       "      <td>-0.113776</td>\n",
       "      <td>-0.067324</td>\n",
       "    </tr>\n",
       "    <tr>\n",
       "      <th>Male</th>\n",
       "      <td>-0.171731</td>\n",
       "      <td>-0.170840</td>\n",
       "      <td>-0.177607</td>\n",
       "      <td>-0.106495</td>\n",
       "      <td>1.000000</td>\n",
       "      <td>-0.144438</td>\n",
       "      <td>-0.110398</td>\n",
       "      <td>-0.048338</td>\n",
       "      <td>-0.106495</td>\n",
       "      <td>-0.099055</td>\n",
       "      <td>-0.088925</td>\n",
       "      <td>-0.157794</td>\n",
       "      <td>-0.093371</td>\n",
       "    </tr>\n",
       "    <tr>\n",
       "      <th>No</th>\n",
       "      <td>-0.167944</td>\n",
       "      <td>-0.167073</td>\n",
       "      <td>-0.173691</td>\n",
       "      <td>-0.104146</td>\n",
       "      <td>-0.144438</td>\n",
       "      <td>1.000000</td>\n",
       "      <td>-0.107964</td>\n",
       "      <td>-0.047272</td>\n",
       "      <td>-0.104146</td>\n",
       "      <td>-0.096871</td>\n",
       "      <td>-0.086964</td>\n",
       "      <td>-0.154314</td>\n",
       "      <td>-0.091312</td>\n",
       "    </tr>\n",
       "    <tr>\n",
       "      <th>Yes</th>\n",
       "      <td>-0.128364</td>\n",
       "      <td>-0.127698</td>\n",
       "      <td>-0.132757</td>\n",
       "      <td>-0.079602</td>\n",
       "      <td>-0.110398</td>\n",
       "      <td>-0.107964</td>\n",
       "      <td>1.000000</td>\n",
       "      <td>-0.036131</td>\n",
       "      <td>-0.079602</td>\n",
       "      <td>-0.074041</td>\n",
       "      <td>-0.066469</td>\n",
       "      <td>-0.117947</td>\n",
       "      <td>-0.069792</td>\n",
       "    </tr>\n",
       "    <tr>\n",
       "      <th>Fri</th>\n",
       "      <td>-0.056204</td>\n",
       "      <td>-0.055913</td>\n",
       "      <td>-0.058128</td>\n",
       "      <td>-0.034854</td>\n",
       "      <td>-0.048338</td>\n",
       "      <td>-0.047272</td>\n",
       "      <td>-0.036131</td>\n",
       "      <td>1.000000</td>\n",
       "      <td>-0.034854</td>\n",
       "      <td>-0.032419</td>\n",
       "      <td>-0.029104</td>\n",
       "      <td>-0.051643</td>\n",
       "      <td>-0.030559</td>\n",
       "    </tr>\n",
       "    <tr>\n",
       "      <th>Sat</th>\n",
       "      <td>-0.123825</td>\n",
       "      <td>-0.123183</td>\n",
       "      <td>-0.128062</td>\n",
       "      <td>-0.076787</td>\n",
       "      <td>-0.106495</td>\n",
       "      <td>-0.104146</td>\n",
       "      <td>-0.079602</td>\n",
       "      <td>-0.034854</td>\n",
       "      <td>1.000000</td>\n",
       "      <td>-0.071423</td>\n",
       "      <td>-0.064119</td>\n",
       "      <td>-0.113776</td>\n",
       "      <td>-0.067324</td>\n",
       "    </tr>\n",
       "    <tr>\n",
       "      <th>Sun</th>\n",
       "      <td>-0.115175</td>\n",
       "      <td>-0.114578</td>\n",
       "      <td>-0.119116</td>\n",
       "      <td>-0.071423</td>\n",
       "      <td>-0.099055</td>\n",
       "      <td>-0.096871</td>\n",
       "      <td>-0.074041</td>\n",
       "      <td>-0.032419</td>\n",
       "      <td>-0.071423</td>\n",
       "      <td>1.000000</td>\n",
       "      <td>-0.059640</td>\n",
       "      <td>-0.105828</td>\n",
       "      <td>-0.062621</td>\n",
       "    </tr>\n",
       "    <tr>\n",
       "      <th>Thur</th>\n",
       "      <td>-0.103397</td>\n",
       "      <td>-0.102860</td>\n",
       "      <td>-0.106935</td>\n",
       "      <td>-0.064119</td>\n",
       "      <td>-0.088925</td>\n",
       "      <td>-0.086964</td>\n",
       "      <td>-0.066469</td>\n",
       "      <td>-0.029104</td>\n",
       "      <td>-0.064119</td>\n",
       "      <td>-0.059640</td>\n",
       "      <td>1.000000</td>\n",
       "      <td>-0.095005</td>\n",
       "      <td>-0.056217</td>\n",
       "    </tr>\n",
       "    <tr>\n",
       "      <th>Dinner</th>\n",
       "      <td>-0.183473</td>\n",
       "      <td>-0.182521</td>\n",
       "      <td>-0.189751</td>\n",
       "      <td>-0.113776</td>\n",
       "      <td>-0.157794</td>\n",
       "      <td>-0.154314</td>\n",
       "      <td>-0.117947</td>\n",
       "      <td>-0.051643</td>\n",
       "      <td>-0.113776</td>\n",
       "      <td>-0.105828</td>\n",
       "      <td>-0.095005</td>\n",
       "      <td>1.000000</td>\n",
       "      <td>-0.099755</td>\n",
       "    </tr>\n",
       "    <tr>\n",
       "      <th>Lunch</th>\n",
       "      <td>-0.108566</td>\n",
       "      <td>-0.108003</td>\n",
       "      <td>-0.112281</td>\n",
       "      <td>-0.067324</td>\n",
       "      <td>-0.093371</td>\n",
       "      <td>-0.091312</td>\n",
       "      <td>-0.069792</td>\n",
       "      <td>-0.030559</td>\n",
       "      <td>-0.067324</td>\n",
       "      <td>-0.062621</td>\n",
       "      <td>-0.056217</td>\n",
       "      <td>-0.099755</td>\n",
       "      <td>1.000000</td>\n",
       "    </tr>\n",
       "  </tbody>\n",
       "</table>\n",
       "</div>"
      ],
      "text/plain": [
       "            total_bill       tip      size    Female      Male        No  \\\n",
       "total_bill    1.000000  0.933350  0.928503 -0.123825 -0.171731 -0.167944   \n",
       "tip           0.933350  1.000000  0.907251 -0.123183 -0.170840 -0.167073   \n",
       "size          0.928503  0.907251  1.000000 -0.128062 -0.177607 -0.173691   \n",
       "Female       -0.123825 -0.123183 -0.128062  1.000000 -0.106495 -0.104146   \n",
       "Male         -0.171731 -0.170840 -0.177607 -0.106495  1.000000 -0.144438   \n",
       "No           -0.167944 -0.167073 -0.173691 -0.104146 -0.144438  1.000000   \n",
       "Yes          -0.128364 -0.127698 -0.132757 -0.079602 -0.110398 -0.107964   \n",
       "Fri          -0.056204 -0.055913 -0.058128 -0.034854 -0.048338 -0.047272   \n",
       "Sat          -0.123825 -0.123183 -0.128062 -0.076787 -0.106495 -0.104146   \n",
       "Sun          -0.115175 -0.114578 -0.119116 -0.071423 -0.099055 -0.096871   \n",
       "Thur         -0.103397 -0.102860 -0.106935 -0.064119 -0.088925 -0.086964   \n",
       "Dinner       -0.183473 -0.182521 -0.189751 -0.113776 -0.157794 -0.154314   \n",
       "Lunch        -0.108566 -0.108003 -0.112281 -0.067324 -0.093371 -0.091312   \n",
       "\n",
       "                 Yes       Fri       Sat       Sun      Thur    Dinner  \\\n",
       "total_bill -0.128364 -0.056204 -0.123825 -0.115175 -0.103397 -0.183473   \n",
       "tip        -0.127698 -0.055913 -0.123183 -0.114578 -0.102860 -0.182521   \n",
       "size       -0.132757 -0.058128 -0.128062 -0.119116 -0.106935 -0.189751   \n",
       "Female     -0.079602 -0.034854 -0.076787 -0.071423 -0.064119 -0.113776   \n",
       "Male       -0.110398 -0.048338 -0.106495 -0.099055 -0.088925 -0.157794   \n",
       "No         -0.107964 -0.047272 -0.104146 -0.096871 -0.086964 -0.154314   \n",
       "Yes         1.000000 -0.036131 -0.079602 -0.074041 -0.066469 -0.117947   \n",
       "Fri        -0.036131  1.000000 -0.034854 -0.032419 -0.029104 -0.051643   \n",
       "Sat        -0.079602 -0.034854  1.000000 -0.071423 -0.064119 -0.113776   \n",
       "Sun        -0.074041 -0.032419 -0.071423  1.000000 -0.059640 -0.105828   \n",
       "Thur       -0.066469 -0.029104 -0.064119 -0.059640  1.000000 -0.095005   \n",
       "Dinner     -0.117947 -0.051643 -0.113776 -0.105828 -0.095005  1.000000   \n",
       "Lunch      -0.069792 -0.030559 -0.067324 -0.062621 -0.056217 -0.099755   \n",
       "\n",
       "               Lunch  \n",
       "total_bill -0.108566  \n",
       "tip        -0.108003  \n",
       "size       -0.112281  \n",
       "Female     -0.067324  \n",
       "Male       -0.093371  \n",
       "No         -0.091312  \n",
       "Yes        -0.069792  \n",
       "Fri        -0.030559  \n",
       "Sat        -0.067324  \n",
       "Sun        -0.062621  \n",
       "Thur       -0.056217  \n",
       "Dinner     -0.099755  \n",
       "Lunch       1.000000  "
      ]
     },
     "execution_count": 42,
     "metadata": {},
     "output_type": "execute_result"
    }
   ],
   "source": [
    "corr"
   ]
  },
  {
   "cell_type": "markdown",
   "id": "fbcc6516",
   "metadata": {},
   "source": [
    "**as we know, it is recommended to avoid having correlated features in your dataset. Indeed, a group of highly correlated features will not bring additional information (or just very few), but will increase the complexity of the algorithm, thus increasing the risk of errors.**"
   ]
  },
  {
   "cell_type": "code",
   "execution_count": 43,
   "id": "bdbbe7a3",
   "metadata": {},
   "outputs": [],
   "source": [
    "# Create correlation matrix\n",
    "corr_matrix = df.corr().abs()\n",
    "\n",
    "# Select upper triangle of correlation matrix\n",
    "upper = corr_matrix.where(np.triu(np.ones(corr_matrix.shape), k=1).astype(np.bool))\n",
    "\n",
    "# Find index of feature columns with correlation greater than 0.8\n",
    "to_drop = [column for column in upper.columns if any(upper[column] > 0.8)]"
   ]
  },
  {
   "cell_type": "code",
   "execution_count": 44,
   "id": "9c2a693a",
   "metadata": {},
   "outputs": [
    {
     "data": {
      "text/plain": [
       "[]"
      ]
     },
     "execution_count": 44,
     "metadata": {},
     "output_type": "execute_result"
    }
   ],
   "source": [
    "to_drop"
   ]
  },
  {
   "cell_type": "markdown",
   "id": "6bb29041",
   "metadata": {},
   "source": [
    "as we see there is no feature columns with correlation greater than 0.8, so we don't need to remove any feature columns from our dataset"
   ]
  },
  {
   "cell_type": "code",
   "execution_count": null,
   "id": "614cbafd",
   "metadata": {},
   "outputs": [],
   "source": []
  },
  {
   "cell_type": "code",
   "execution_count": 45,
   "id": "3050ec7f",
   "metadata": {},
   "outputs": [],
   "source": [
    "# numerical and caterogrical \n",
    "\n",
    "# numerical two variables or relationship -> scatter plot, \n",
    "# numerical single variables -> box plat, frequency or bar graph, histogram\n",
    "# caterogrical sinlge -> pie chart, histogram, frequency or bar graph, box plot, wordcloud\n",
    "# correlation -> heatmap "
   ]
  },
  {
   "cell_type": "markdown",
   "id": "386f8540",
   "metadata": {},
   "source": [
    "# 4. Scatter Plot"
   ]
  },
  {
   "cell_type": "code",
   "execution_count": 46,
   "id": "b3b1325d",
   "metadata": {},
   "outputs": [
    {
     "data": {
      "image/png": "[encoded data removed]",
      "text/plain": [
       "<Figure size 360x360 with 1 Axes>"
      ]
     },
     "metadata": {},
     "output_type": "display_data"
    },
    {
     "data": {
      "image/png": "[encoded data removed]",
      "text/plain": [
       "<Figure size 360x360 with 1 Axes>"
      ]
     },
     "metadata": {},
     "output_type": "display_data"
    },
    {
     "data": {
      "image/png": "[encoded data removed]",
      "text/plain": [
       "<Figure size 360x360 with 1 Axes>"
      ]
     },
     "metadata": {},
     "output_type": "display_data"
    },
    {
     "data": {
      "image/png": "[encoded data removed]",
      "text/plain": [
       "<Figure size 360x360 with 1 Axes>"
      ]
     },
     "metadata": {},
     "output_type": "display_data"
    },
    {
     "data": {
      "image/png": "[encoded data removed]",
      "text/plain": [
       "<Figure size 360x360 with 1 Axes>"
      ]
     },
     "metadata": {},
     "output_type": "display_data"
    },
    {
     "data": {
      "image/png": "[encoded data removed]",
      "text/plain": [
       "<Figure size 360x360 with 1 Axes>"
      ]
     },
     "metadata": {},
     "output_type": "display_data"
    },
    {
     "data": {
      "image/png": "[encoded data removed]",
      "text/plain": [
       "<Figure size 360x360 with 1 Axes>"
      ]
     },
     "metadata": {},
     "output_type": "display_data"
    },
    {
     "data": {
      "image/png": "[encoded data removed]",
      "text/plain": [
       "<Figure size 360x360 with 1 Axes>"
      ]
     },
     "metadata": {},
     "output_type": "display_data"
    },
    {
     "data": {
      "image/png": "[encoded data removed]",
      "text/plain": [
       "<Figure size 360x360 with 1 Axes>"
      ]
     },
     "metadata": {},
     "output_type": "display_data"
    },
    {
     "data": {
      "image/png": "[encoded data removed]",
      "text/plain": [
       "<Figure size 360x360 with 1 Axes>"
      ]
     },
     "metadata": {},
     "output_type": "display_data"
    },
    {
     "data": {
      "image/png": "[encoded data removed]",
      "text/plain": [
       "<Figure size 360x360 with 1 Axes>"
      ]
     },
     "metadata": {},
     "output_type": "display_data"
    },
    {
     "data": {
      "image/png": "[encoded data removed]",
      "text/plain": [
       "<Figure size 360x360 with 1 Axes>"
      ]
     },
     "metadata": {},
     "output_type": "display_data"
    }
   ],
   "source": [
    "#btw target variable and features\n",
    "cola = ['total_bill','size','Female','Male','No','Yes','Fri','Sat','Sun','Thur','Dinner','Lunch']\n",
    "for value in cola:\n",
    "    sns.lmplot(x=value, y=\"tip\", data=final_df);\n",
    "\n",
    "plt.show()"
   ]
  },
  {
   "cell_type": "markdown",
   "id": "c15cd85e",
   "metadata": {},
   "source": [
    "# 5. BoxPLot"
   ]
  },
  {
   "cell_type": "code",
   "execution_count": 47,
   "id": "216a55e3",
   "metadata": {},
   "outputs": [],
   "source": [
    "#boxplot for features~ to check for outliers"
   ]
  },
  {
   "cell_type": "code",
   "execution_count": 48,
   "id": "0fc0009c",
   "metadata": {},
   "outputs": [
    {
     "data": {
      "image/png": "[encoded data removed]",
      "text/plain": [
       "<Figure size 360x360 with 1 Axes>"
      ]
     },
     "metadata": {},
     "output_type": "display_data"
    },
    {
     "data": {
      "image/png": "[encoded data removed]",
      "text/plain": [
       "<Figure size 360x360 with 1 Axes>"
      ]
     },
     "metadata": {},
     "output_type": "display_data"
    },
    {
     "data": {
      "image/png": "[encoded data removed]",
      "text/plain": [
       "<Figure size 360x360 with 1 Axes>"
      ]
     },
     "metadata": {},
     "output_type": "display_data"
    }
   ],
   "source": [
    "for value in cols:\n",
    "    sns.catplot(data= final_df, x=value, kind=\"box\")\n",
    "    \n",
    "# outliers present in total_bill, size"
   ]
  },
  {
   "cell_type": "code",
   "execution_count": 49,
   "id": "d16dd37a",
   "metadata": {},
   "outputs": [
    {
     "data": {
      "text/plain": [
       "<seaborn.axisgrid.FacetGrid at 0x7f8ada2d2fd0>"
      ]
     },
     "execution_count": 49,
     "metadata": {},
     "output_type": "execute_result"
    },
    {
     "data": {
      "image/png": "[encoded data removed]",
      "text/plain": [
       "<Figure size 360x360 with 1 Axes>"
      ]
     },
     "metadata": {},
     "output_type": "display_data"
    }
   ],
   "source": [
    "#boxplot for target\n",
    "sns.catplot(data= final_df, x='tip', kind=\"box\")\n",
    "\n",
    "#outliers present in tip\n",
    "\n"
   ]
  },
  {
   "cell_type": "code",
   "execution_count": 50,
   "id": "f68c7f18",
   "metadata": {},
   "outputs": [
    {
     "data": {
      "text/plain": [
       "(1220, 13)"
      ]
     },
     "execution_count": 50,
     "metadata": {},
     "output_type": "execute_result"
    }
   ],
   "source": [
    "final_df.shape"
   ]
  },
  {
   "cell_type": "markdown",
   "id": "b081e39a",
   "metadata": {},
   "source": [
    "# OUTLIERS TREATMENT   "
   ]
  },
  {
   "cell_type": "code",
   "execution_count": 51,
   "id": "36bea174",
   "metadata": {},
   "outputs": [
    {
     "data": {
      "text/plain": [
       "(1220, 13)"
      ]
     },
     "execution_count": 51,
     "metadata": {},
     "output_type": "execute_result"
    }
   ],
   "source": [
    "final_df.shape"
   ]
  },
  {
   "cell_type": "code",
   "execution_count": 52,
   "id": "ca0c90cd",
   "metadata": {},
   "outputs": [
    {
     "name": "stdout",
     "output_type": "stream",
     "text": [
      "0      1.471690\n",
      "1      0.720759\n",
      "2      1.925636\n",
      "3      2.227138\n",
      "4      2.329897\n",
      "         ...   \n",
      "239    0.446853\n",
      "240    0.446853\n",
      "241    0.446853\n",
      "242    0.446853\n",
      "243    0.446853\n",
      "Name: total_bill, Length: 1220, dtype: float64\n"
     ]
    }
   ],
   "source": [
    "from scipy import stats\n",
    "z=np.abs(stats.zscore(final_df.total_bill))\n",
    "print(z)"
   ]
  },
  {
   "cell_type": "code",
   "execution_count": 53,
   "id": "2ec57d36",
   "metadata": {},
   "outputs": [
    {
     "name": "stdout",
     "output_type": "stream",
     "text": [
      "(array([ 11,  23,  39,  47,  52,  56,  59,  83,  85,  95, 102, 112, 141,\n",
      "       142, 156, 167, 170, 173, 175, 179, 180, 182, 184, 197, 207, 212,\n",
      "       237, 238]),)\n"
     ]
    }
   ],
   "source": [
    "threshold=3\n",
    "print(np.where(z>3))"
   ]
  },
  {
   "cell_type": "code",
   "execution_count": 54,
   "id": "1ada8cc3",
   "metadata": {},
   "outputs": [
    {
     "name": "stdout",
     "output_type": "stream",
     "text": [
      "     total_bill   tip  size  Female  Male   No  Yes  Fri  Sat  Sun  Thur  \\\n",
      "0         16.99  1.01   2.0     0.0   0.0  0.0  0.0  0.0  0.0  0.0   0.0   \n",
      "1         10.34  1.66   3.0     0.0   0.0  0.0  0.0  0.0  0.0  0.0   0.0   \n",
      "2         21.01  3.50   3.0     0.0   0.0  0.0  0.0  0.0  0.0  0.0   0.0   \n",
      "3         23.68  3.31   2.0     0.0   0.0  0.0  0.0  0.0  0.0  0.0   0.0   \n",
      "4         24.59  3.61   4.0     0.0   0.0  0.0  0.0  0.0  0.0  0.0   0.0   \n",
      "..          ...   ...   ...     ...   ...  ...  ...  ...  ...  ...   ...   \n",
      "239        0.00  0.00   0.0     0.0   0.0  0.0  0.0  0.0  0.0  0.0   0.0   \n",
      "240        0.00  0.00   0.0     0.0   0.0  0.0  0.0  0.0  0.0  0.0   0.0   \n",
      "241        0.00  0.00   0.0     0.0   0.0  0.0  0.0  0.0  0.0  0.0   0.0   \n",
      "242        0.00  0.00   0.0     0.0   0.0  0.0  0.0  0.0  0.0  0.0   0.0   \n",
      "243        0.00  0.00   0.0     0.0   0.0  0.0  0.0  0.0  0.0  0.0   0.0   \n",
      "\n",
      "     Dinner  Lunch  \n",
      "0       0.0    0.0  \n",
      "1       0.0    0.0  \n",
      "2       0.0    0.0  \n",
      "3       0.0    0.0  \n",
      "4       0.0    0.0  \n",
      "..      ...    ...  \n",
      "239     1.0    0.0  \n",
      "240     1.0    0.0  \n",
      "241     1.0    0.0  \n",
      "242     1.0    0.0  \n",
      "243     1.0    0.0  \n",
      "\n",
      "[1192 rows x 13 columns]\n"
     ]
    }
   ],
   "source": [
    "final_df=final_df[(z< 3)]\n",
    "print(final_df)"
   ]
  },
  {
   "cell_type": "code",
   "execution_count": 55,
   "id": "f1464cad",
   "metadata": {},
   "outputs": [
    {
     "data": {
      "text/plain": [
       "(1192, 13)"
      ]
     },
     "execution_count": 55,
     "metadata": {},
     "output_type": "execute_result"
    }
   ],
   "source": [
    "final_df.shape"
   ]
  },
  {
   "cell_type": "markdown",
   "id": "c6ffeac9",
   "metadata": {},
   "source": [
    "# Step - 5: Saving the pre-processsed dataframe"
   ]
  },
  {
   "cell_type": "code",
   "execution_count": 56,
   "id": "ac0a372d",
   "metadata": {},
   "outputs": [],
   "source": [
    "# save preprocess dataframe to csv for model training purpose\n",
    "final_df.to_csv('tip_df2.csv')"
   ]
  },
  {
   "cell_type": "code",
   "execution_count": null,
   "id": "17664ac5",
   "metadata": {},
   "outputs": [],
   "source": []
  },
  {
   "cell_type": "code",
   "execution_count": null,
   "id": "abe909f1",
   "metadata": {},
   "outputs": [],
   "source": []
  },
  {
   "cell_type": "code",
   "execution_count": null,
   "id": "97c0a114",
   "metadata": {},
   "outputs": [],
   "source": []
  },
  {
   "cell_type": "code",
   "execution_count": null,
   "id": "5e294037",
   "metadata": {},
   "outputs": [],
   "source": []
  },
  {
   "cell_type": "code",
   "execution_count": null,
   "id": "87990109",
   "metadata": {},
   "outputs": [],
   "source": []
  },
  {
   "cell_type": "code",
   "execution_count": null,
   "id": "4186caf8",
   "metadata": {},
   "outputs": [],
   "source": []
  }
 ],
 "metadata": {
  "kernelspec": {
   "display_name": "Python 3 (ipykernel)",
   "language": "python",
   "name": "python3"
  },
  "language_info": {
   "codemirror_mode": {
    "name": "ipython",
    "version": 3
   },
   "file_extension": ".py",
   "mimetype": "text/x-python",
   "name": "python",
   "nbconvert_exporter": "python",
   "pygments_lexer": "ipython3",
   "version": "3.9.12"
  }
 },
 "nbformat": 4,
 "nbformat_minor": 5
}
